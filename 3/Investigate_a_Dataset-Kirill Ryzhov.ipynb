{
 "cells": [
  {
   "cell_type": "markdown",
   "metadata": {},
   "source": [
    "# Project: Exploring effects of Central Bank's monetary policy \n",
    "<div class=\"alert alert-block alert-info\">\n",
    "by Kirill Ryzhov<br>\n",
    "February 2018</div>\n",
    "\n",
    "\n",
    "## Table of Contents\n",
    "<ul>\n",
    "<li><a href=\"#intro\">Introduction</a></li>\n",
    "<li><a href=\"#data\">Dataset</a></li>\n",
    "<li><a href=\"#wrangling\">Data Wrangling</a></li>\n",
    "<li><a href=\"#eda\">Exploratory Data Analysis</a></li>\n",
    "<li><a href=\"#conclusions\">Conclusions</a></li>\n",
    "</ul>"
   ]
  },
  {
   "cell_type": "markdown",
   "metadata": {},
   "source": [
    "<a id='intro'></a>\n",
    "## Introduction\n",
    "\n",
    "### Ideas to explore\n",
    "\n",
    "The focus of the project is to explore a codependance structure of Central Bank's monetary policy (discount rate, bank rate or interest rate) on other economic factors such as GDP, inflation, unemployement, foreign investments, debt servicing cost, and international trade.  \n",
    "\n",
    "### Premise\n",
    "\n",
    "Bank rate has a direct impact on the lending rates offered by commercial banks to the businesses and individual clients, and in theory has direct impact on economy growth and competiteveness. \n",
    "\n",
    "High Central bank interest rate attracts may attract foreign investments, and therefore engage the growth of economy. [Ref.](https://en.wikipedia.org/wiki/Federal_funds_rate)\n",
    "\n",
    "The rates are also often used to manage the country currency supply. Theoretically, bank rate to be reduced as the unemployement increase. Thus, the reduction of the bank rate followed by increase of the employement rate, since businesses and financial institutions get funds at low-priced rates.\n",
    "\n",
    "Another aspect of monetary policy is inflation, which may be caused by lower interest rate, increased by the amount of borrowing. Inflation causes trade deficit, since it results in higher production cost thus rendering exports in-competitive, which in turn, reduces exports and widens trade deficit.\n",
    "\n",
    "To confirm the theoretical premises, the report poses the following questions:\n",
    "1. What is the global trend for GDP and Central Bank interest rates?\n",
    "2. Does bank interest rate correlates with GDP growth, Investment Inflows, Export and Debt servicing cost?\n",
    "3. Does interest rate has a direct connection with unemployement rate, tax and inflation?\n",
    "4. Which of the above factors (incl. Trade Balance) affect tax inflow?\n",
    "\n",
    "Varaiables:\n",
    "- Central Bank Interest Rate\n",
    "- Time \n",
    "- GDP\n",
    "- Debt\n",
    "- Investment\n",
    "- Tax Inflow\n",
    "\n",
    "Methodology:\n",
    "1. Reduction to a single country / group of countries.\n",
    "2. Multiple variable explorations.\n",
    "4. Simple linear regression.\n",
    "4. Kernel distributions/regressions: kernel_regression.\n"
   ]
  },
  {
   "cell_type": "markdown",
   "metadata": {},
   "source": [
    "### Dataset details <a id='data'></a> \n",
    "A dataset for analysis falls under Economy category and provided by the World Bank. [Data Source.](https://www.gapminder.org/data/)<br>\n",
    "\n",
    "The main sub-sets are: \n",
    "- Economy \n",
    "- Economic situation\n",
    "- Incomes and growth\n",
    "- Advanced debt & trade\n",
    "\n",
    "The actual data tables used in the report.\n",
    "\n",
    "|Item, no.|Description|Source|Category|Subcategory|\n",
    "|:-|:-|:-|-|-|\n",
    "|1|Central bank discount rate (annual %)|UN|Economy|Economic situation|\n",
    "|2|Tax revenue (% of GDP)|World Bank|Economy|Economic situation|\n",
    "|3|Investments (% of GDP)|World Bank|Economy|Economic situation|\n",
    "|4|Inflation (annual %)|World Bank|Economy|Economic situation|\n",
    "|5|Foreign direct investment, net outflows (% of GDP)|Not Found.|Economy|Economic situation|\n",
    "|6|Foreign direct investment, net inflows (% of GDP)|World Bank|Economy|Economic situation|\n",
    "|7|Exports (% of GDP)|World Bank|Economy|Debt & trade|\n",
    "|8|Imports (% of GDP)|World Bank|Economy|Debt & trade|\n",
    "|9|Total GDP (PPP$, inflation-adjusted)|Various sources|Economy|Incomes & growth|\n",
    "|10|External debt, total (USD, not inflation-adjusted)|World Bank|For advanced users|Advanced debt & trade|\n",
    "|11|Debt servicing costs (% of exports and net income from abroad)|World Bank|For advanced users|Advanced debt & trade|\n",
    "|12|Long term unemployment rate (%)|International Labour Organization|Work|Unemployment|\n",
    "\n",
    "\n",
    "Some alternative sources used for the report:\n",
    "[IMF Historical Public Debt Database](https://www.imf.org/en/Publications/WP/Issues/2016/12/31/A-Historical-Public-Debt-Database-24332)"
   ]
  },
  {
   "cell_type": "code",
   "execution_count": 406,
   "metadata": {
    "collapsed": true
   },
   "outputs": [],
   "source": [
    "# Import statements for all of the packages in use.\n",
    "import pandas as pd\n",
    "import numpy as np\n",
    "from scipy.stats import ttest_ind\n",
    "import seaborn as sns\n",
    "import matplotlib.pyplot as plt \n",
    "\n",
    "sns.set_style('darkgrid')\n",
    "%matplotlib inline\n",
    "%config InlineBackend.figure_format = 'retina' \n",
    "\n",
    "# import requests \n",
    "# response = requests.get('https://www.udacity.com')\n",
    "# http://ipython.readthedocs.io/en/stable/interactive/magics.html"
   ]
  },
  {
   "cell_type": "markdown",
   "metadata": {},
   "source": [
    "<a id='wrangling'></a>\n",
    "## Data Wrangling\n",
    "    \n",
    "Loading the the data, check for cleanliness, and then trim and clean your dataset for analysis. \n",
    "\n",
    "### General Properties"
   ]
  },
  {
   "cell_type": "code",
   "execution_count": 398,
   "metadata": {},
   "outputs": [],
   "source": [
    "#Exporting all csvs from the folder\n",
    "\n",
    "import os \n",
    "from os.path import join\n",
    "df_filelist=[]\n",
    "for folder, subs, files in os.walk('data/'):\n",
    "    for file in files:\n",
    "        df_filelist.append(os.path.join(folder, file))\n",
    "\n",
    "# Sort the list\n",
    "df_filelist=sorted(df_filelist)\n",
    "\n",
    "# Reducing the head print volume\n",
    "pd.set_option('display.max_columns', 8)\n",
    "\n",
    "# Multiple outputs. Source goo.gl/e2zSnA\n",
    "from IPython.core.interactiveshell import InteractiveShell\n",
    "InteractiveShell.ast_node_interactivity = \"all\" "
   ]
  },
  {
   "cell_type": "code",
   "execution_count": 391,
   "metadata": {},
   "outputs": [
    {
     "data": {
      "text/plain": [
       "((213, 23),\n",
       "   Tax revenue (% of GDP)  1990  1991  1992  ...        2008       2009  \\\n",
       " 0            Afghanistan   NaN   NaN   NaN  ...    5.225979   7.266421   \n",
       " 1                Albania   NaN   NaN   NaN  ...         NaN        NaN   \n",
       " 2                Algeria   NaN   NaN   NaN  ...   45.255818  34.911834   \n",
       " 3         American Samoa   NaN   NaN   NaN  ...         NaN        NaN   \n",
       " 4                Andorra   NaN   NaN   NaN  ...         NaN        NaN   \n",
       " \n",
       "        2010  2011  \n",
       " 0  8.313807   NaN  \n",
       " 1       NaN   NaN  \n",
       " 2       NaN   NaN  \n",
       " 3       NaN   NaN  \n",
       " 4       NaN   NaN  \n",
       " \n",
       " [5 rows x 23 columns],\n",
       "   Inflation, GDP deflator (annual %)     1961     1962      1963    ...      \\\n",
       " 0                           Abkhazia      NaN      NaN       NaN    ...       \n",
       " 1                        Afghanistan      NaN      NaN       NaN    ...       \n",
       " 2              Akrotiri and Dhekelia      NaN      NaN       NaN    ...       \n",
       " 3                            Albania      NaN      NaN       NaN    ...       \n",
       " 4                            Algeria  3.47172  2.35128  0.549331    ...       \n",
       " \n",
       "         2008       2009       2010       2011  \n",
       " 0        NaN        NaN        NaN        NaN  \n",
       " 1  19.643462  -1.162791   3.682878        NaN  \n",
       " 2        NaN        NaN        NaN        NaN  \n",
       " 3   4.360905   2.410882   3.459343   3.000000  \n",
       " 4  14.602179 -11.266611  16.245617  11.431168  \n",
       " \n",
       " [5 rows x 52 columns],\n",
       " (270, 52))"
      ]
     },
     "execution_count": 391,
     "metadata": {},
     "output_type": "execute_result"
    }
   ],
   "source": [
    "# printing out first lines. Inspecting missing / errant data.\n",
    "# Reading data on country tax and country inflation\n",
    "df_tax=pd.read_csv('data/02-tax.csv')\n",
    "df_inf=pd.read_csv('data/04-inflation.csv')\n",
    "df_tax.shape, df_tax.head(), df_inf.head(), df_inf.shape"
   ]
  },
  {
   "cell_type": "code",
   "execution_count": 411,
   "metadata": {},
   "outputs": [
    {
     "name": "stdout",
     "output_type": "stream",
     "text": [
      "                         Title       Countries    Years     From       To   10Y Data Dens\n",
      "Discount Rate Of Central Bank,             146       60     1948     2006            0.82\n",
      "        Tax Revenue (% Of Gdp)             213       23     1990     2011            0.45\n",
      "Gross Capital Formation (% Of              213       53     1960     2011            0.72\n",
      "Inflation, Gdp Deflator (Annua             270       52     1961     2011            0.71\n",
      "Foreign Direct Investment, Net             213       53     1960     2011            0.49\n",
      "Foreign Direct Investment, Net             213       43     1970     2011            0.78\n",
      "Exports Of Goods And Services              275       52     1961     2011            0.64\n",
      "Imports Of Goods And Services              213       53     1960     2011            0.74\n",
      "Real Gdp Per Capita Ppp 2005 P             188       56     1950     2004            0.92\n",
      "Gdp Per Capity, 2005 Ppp, Wb D             260       33     1980     2011             0.7\n",
      "                Total Gdp, Ppp             260      215     1800     2013            0.81\n",
      "                Total Gdp, Ppp             260      215     1800     2013            0.81\n",
      "External Debt Stocks (% Of Gni             213       53     1960     2011            0.52\n",
      "Public Debt (In Percent Of Gdp             178      322     1692     2012             1.0\n",
      "Debt Servicing Costs (% Of Exp             207       41     1970     2009            0.51\n",
      "Total Long-Term Unemployment (              56       29     1980     2007             0.6\n",
      "Total Reserves (% Of Total Ext             213       53     1960     2011             0.5\n"
     ]
    }
   ],
   "source": [
    "# Reading and printing data\n",
    "print ('%*s %*s %*s %*s %*s %*s' % (30,\"Title\",15,\"Countries\",8,\"Years\",8,\"From\",8,\"To\",15,\"10Y Data Dens\"))\n",
    "\n",
    "# Loooping across all files\n",
    "for df in df_filelist:\n",
    "    f=pd.read_csv(df)\n",
    "    countries=f.iloc[:,0].count()\n",
    "    period=len(f.columns[:])\n",
    "    start=f.columns[1]\n",
    "    end=f.columns[-1]\n",
    "    name=f.columns[0][:30]\n",
    "    # calulcating data density - 10years\n",
    "    null_density=0\n",
    "    for i in range(f.shape[1]-10,f.shape[1]):\n",
    "        null_density+=(f.iloc[:, i].count()/len(f.iloc[:, i]))\n",
    "    print ('%*s %*s %*i %*s %*s %*s' % (30,name.title(),15,countries,8,period,\n",
    "                                        8,start,8,end,15,round(null_density/10,2)))"
   ]
  },
  {
   "cell_type": "code",
   "execution_count": 409,
   "metadata": {},
   "outputs": [
    {
     "name": "stdout",
     "output_type": "stream",
     "text": [
      "Discount Rate Of Central Bank,             146       60     1948     2006            0.82\n",
      "        Tax Revenue (% Of Gdp)             213       23     1990     2011            0.45\n",
      "Gross Capital Formation (% Of              213       53     1960     2011            0.72\n",
      "Inflation, Gdp Deflator (Annua             270       52     1961     2011            0.71\n",
      "Foreign Direct Investment, Net             213       53     1960     2011            0.49\n",
      "Foreign Direct Investment, Net             213       43     1970     2011            0.78\n",
      "Exports Of Goods And Services              275       52     1961     2011            0.64\n",
      "Imports Of Goods And Services              213       53     1960     2011            0.74\n",
      "Real Gdp Per Capita Ppp 2005 P             188       56     1950     2004            0.92\n",
      "Gdp Per Capity, 2005 Ppp, Wb D             260       33     1980     2011             0.7\n",
      "                Total Gdp, Ppp             260      215     1800     2013            0.81\n",
      "                Total Gdp, Ppp             260      215     1800     2013            0.81\n",
      "External Debt Stocks (% Of Gni             213       53     1960     2011            0.52\n",
      "Public Debt (In Percent Of Gdp             178      322     1692     2012             1.0\n",
      "Debt Servicing Costs (% Of Exp             207       41     1970     2009            0.51\n",
      "Total Long-Term Unemployment (              56       29     1980     2007             0.6\n",
      "Total Reserves (% Of Total Ext             213       53     1960     2011             0.5\n"
     ]
    }
   ],
   "source": [
    "# Reading and printing data\n",
    "\n",
    "columns=[]\n",
    "\n",
    "\n",
    "# Loooping across all files\n",
    "for df in df_filelist:\n",
    "    f=pd.read_csv(df)\n",
    "    countries=f.iloc[:,0].count()\n",
    "    period=len(f.columns[:])\n",
    "    start=f.columns[1]\n",
    "    end=f.columns[-1]\n",
    "    name=f.columns[0][:30]\n",
    "    # getting data density\n",
    "    null_density=0\n",
    "    for i in range(f.shape[1]-10,f.shape[1]):\n",
    "        null_density+=(f.iloc[:, i].count()/len(f.iloc[:, i]))\n",
    "    \n",
    "    df_infop=pd.DataFrame({\"Title\",\"Countries\",\"Years\",\"From\",\"To\",\"10Y Data Dens\"\n",
    "                           name.title(),countries,period,start,end,round(null_density/10,2))\n",
    "    \n",
    "    print (df_info)"
   ]
  },
  {
   "cell_type": "code",
   "execution_count": 405,
   "metadata": {},
   "outputs": [
    {
     "ename": "AttributeError",
     "evalue": "Unknown property figsize",
     "output_type": "error",
     "traceback": [
      "\u001b[0;31m---------------------------------------------------------------------------\u001b[0m",
      "\u001b[0;31mAttributeError\u001b[0m                            Traceback (most recent call last)",
      "\u001b[0;32m<ipython-input-405-d2796199bae9>\u001b[0m in \u001b[0;36m<module>\u001b[0;34m()\u001b[0m\n\u001b[1;32m     22\u001b[0m \u001b[0;32mfor\u001b[0m \u001b[0mdf\u001b[0m \u001b[0;32min\u001b[0m \u001b[0mdf_filelist\u001b[0m\u001b[0;34m:\u001b[0m\u001b[0;34m\u001b[0m\u001b[0m\n\u001b[1;32m     23\u001b[0m     \u001b[0mf\u001b[0m\u001b[0;34m=\u001b[0m\u001b[0mpd\u001b[0m\u001b[0;34m.\u001b[0m\u001b[0mread_csv\u001b[0m\u001b[0;34m(\u001b[0m\u001b[0mdf\u001b[0m\u001b[0;34m)\u001b[0m\u001b[0;34m\u001b[0m\u001b[0m\n\u001b[0;32m---> 24\u001b[0;31m     \u001b[0mnull_density\u001b[0m\u001b[0;34m(\u001b[0m\u001b[0mf\u001b[0m\u001b[0;34m)\u001b[0m\u001b[0;34m\u001b[0m\u001b[0m\n\u001b[0m",
      "\u001b[0;32m<ipython-input-405-d2796199bae9>\u001b[0m in \u001b[0;36mnull_density\u001b[0;34m(df)\u001b[0m\n\u001b[1;32m     15\u001b[0m     \u001b[0maxes\u001b[0m \u001b[0;34m=\u001b[0m \u001b[0mplt\u001b[0m\u001b[0;34m.\u001b[0m\u001b[0mgca\u001b[0m\u001b[0;34m(\u001b[0m\u001b[0;34m)\u001b[0m\u001b[0;34m\u001b[0m\u001b[0m\n\u001b[1;32m     16\u001b[0m     \u001b[0maxes\u001b[0m\u001b[0;34m.\u001b[0m\u001b[0mset_ylim\u001b[0m\u001b[0;34m(\u001b[0m\u001b[0;34m[\u001b[0m\u001b[0;36m0\u001b[0m\u001b[0;34m,\u001b[0m \u001b[0;36m1\u001b[0m\u001b[0;34m]\u001b[0m\u001b[0;34m)\u001b[0m\u001b[0;34m\u001b[0m\u001b[0m\n\u001b[0;32m---> 17\u001b[0;31m     \u001b[0mplt\u001b[0m\u001b[0;34m.\u001b[0m\u001b[0mplot\u001b[0m\u001b[0;34m(\u001b[0m\u001b[0mperiod\u001b[0m\u001b[0;34m,\u001b[0m \u001b[0mnull_dens\u001b[0m\u001b[0;34m,\u001b[0m \u001b[0mfigsize\u001b[0m\u001b[0;34m=\u001b[0m\u001b[0;34m(\u001b[0m\u001b[0;36m50\u001b[0m\u001b[0;34m,\u001b[0m\u001b[0;36m50\u001b[0m\u001b[0;34m)\u001b[0m\u001b[0;34m)\u001b[0m\u001b[0;34m\u001b[0m\u001b[0m\n\u001b[0m\u001b[1;32m     18\u001b[0m     \u001b[0;31m#plt.title(f.columns[0]+\". Data density\")\u001b[0m\u001b[0;34m\u001b[0m\u001b[0;34m\u001b[0m\u001b[0m\n\u001b[1;32m     19\u001b[0m     \u001b[0;31m#display(plt.show())\u001b[0m\u001b[0;34m\u001b[0m\u001b[0;34m\u001b[0m\u001b[0m\n",
      "\u001b[0;32m~/anaconda3/lib/python3.6/site-packages/matplotlib/pyplot.py\u001b[0m in \u001b[0;36mplot\u001b[0;34m(*args, **kwargs)\u001b[0m\n\u001b[1;32m   3238\u001b[0m                       mplDeprecation)\n\u001b[1;32m   3239\u001b[0m     \u001b[0;32mtry\u001b[0m\u001b[0;34m:\u001b[0m\u001b[0;34m\u001b[0m\u001b[0m\n\u001b[0;32m-> 3240\u001b[0;31m         \u001b[0mret\u001b[0m \u001b[0;34m=\u001b[0m \u001b[0max\u001b[0m\u001b[0;34m.\u001b[0m\u001b[0mplot\u001b[0m\u001b[0;34m(\u001b[0m\u001b[0;34m*\u001b[0m\u001b[0margs\u001b[0m\u001b[0;34m,\u001b[0m \u001b[0;34m**\u001b[0m\u001b[0mkwargs\u001b[0m\u001b[0;34m)\u001b[0m\u001b[0;34m\u001b[0m\u001b[0m\n\u001b[0m\u001b[1;32m   3241\u001b[0m     \u001b[0;32mfinally\u001b[0m\u001b[0;34m:\u001b[0m\u001b[0;34m\u001b[0m\u001b[0m\n\u001b[1;32m   3242\u001b[0m         \u001b[0max\u001b[0m\u001b[0;34m.\u001b[0m\u001b[0m_hold\u001b[0m \u001b[0;34m=\u001b[0m \u001b[0mwashold\u001b[0m\u001b[0;34m\u001b[0m\u001b[0m\n",
      "\u001b[0;32m~/anaconda3/lib/python3.6/site-packages/matplotlib/__init__.py\u001b[0m in \u001b[0;36minner\u001b[0;34m(ax, *args, **kwargs)\u001b[0m\n\u001b[1;32m   1708\u001b[0m                     warnings.warn(msg % (label_namer, func.__name__),\n\u001b[1;32m   1709\u001b[0m                                   RuntimeWarning, stacklevel=2)\n\u001b[0;32m-> 1710\u001b[0;31m             \u001b[0;32mreturn\u001b[0m \u001b[0mfunc\u001b[0m\u001b[0;34m(\u001b[0m\u001b[0max\u001b[0m\u001b[0;34m,\u001b[0m \u001b[0;34m*\u001b[0m\u001b[0margs\u001b[0m\u001b[0;34m,\u001b[0m \u001b[0;34m**\u001b[0m\u001b[0mkwargs\u001b[0m\u001b[0;34m)\u001b[0m\u001b[0;34m\u001b[0m\u001b[0m\n\u001b[0m\u001b[1;32m   1711\u001b[0m         \u001b[0mpre_doc\u001b[0m \u001b[0;34m=\u001b[0m \u001b[0minner\u001b[0m\u001b[0;34m.\u001b[0m\u001b[0m__doc__\u001b[0m\u001b[0;34m\u001b[0m\u001b[0m\n\u001b[1;32m   1712\u001b[0m         \u001b[0;32mif\u001b[0m \u001b[0mpre_doc\u001b[0m \u001b[0;32mis\u001b[0m \u001b[0;32mNone\u001b[0m\u001b[0;34m:\u001b[0m\u001b[0;34m\u001b[0m\u001b[0m\n",
      "\u001b[0;32m~/anaconda3/lib/python3.6/site-packages/matplotlib/axes/_axes.py\u001b[0m in \u001b[0;36mplot\u001b[0;34m(self, *args, **kwargs)\u001b[0m\n\u001b[1;32m   1435\u001b[0m         \u001b[0mkwargs\u001b[0m \u001b[0;34m=\u001b[0m \u001b[0mcbook\u001b[0m\u001b[0;34m.\u001b[0m\u001b[0mnormalize_kwargs\u001b[0m\u001b[0;34m(\u001b[0m\u001b[0mkwargs\u001b[0m\u001b[0;34m,\u001b[0m \u001b[0m_alias_map\u001b[0m\u001b[0;34m)\u001b[0m\u001b[0;34m\u001b[0m\u001b[0m\n\u001b[1;32m   1436\u001b[0m \u001b[0;34m\u001b[0m\u001b[0m\n\u001b[0;32m-> 1437\u001b[0;31m         \u001b[0;32mfor\u001b[0m \u001b[0mline\u001b[0m \u001b[0;32min\u001b[0m \u001b[0mself\u001b[0m\u001b[0;34m.\u001b[0m\u001b[0m_get_lines\u001b[0m\u001b[0;34m(\u001b[0m\u001b[0;34m*\u001b[0m\u001b[0margs\u001b[0m\u001b[0;34m,\u001b[0m \u001b[0;34m**\u001b[0m\u001b[0mkwargs\u001b[0m\u001b[0;34m)\u001b[0m\u001b[0;34m:\u001b[0m\u001b[0;34m\u001b[0m\u001b[0m\n\u001b[0m\u001b[1;32m   1438\u001b[0m             \u001b[0mself\u001b[0m\u001b[0;34m.\u001b[0m\u001b[0madd_line\u001b[0m\u001b[0;34m(\u001b[0m\u001b[0mline\u001b[0m\u001b[0;34m)\u001b[0m\u001b[0;34m\u001b[0m\u001b[0m\n\u001b[1;32m   1439\u001b[0m             \u001b[0mlines\u001b[0m\u001b[0;34m.\u001b[0m\u001b[0mappend\u001b[0m\u001b[0;34m(\u001b[0m\u001b[0mline\u001b[0m\u001b[0;34m)\u001b[0m\u001b[0;34m\u001b[0m\u001b[0m\n",
      "\u001b[0;32m~/anaconda3/lib/python3.6/site-packages/matplotlib/axes/_base.py\u001b[0m in \u001b[0;36m_grab_next_args\u001b[0;34m(self, *args, **kwargs)\u001b[0m\n\u001b[1;32m    402\u001b[0m                 \u001b[0mthis\u001b[0m \u001b[0;34m+=\u001b[0m \u001b[0margs\u001b[0m\u001b[0;34m[\u001b[0m\u001b[0;36m0\u001b[0m\u001b[0;34m]\u001b[0m\u001b[0;34m,\u001b[0m\u001b[0;34m\u001b[0m\u001b[0m\n\u001b[1;32m    403\u001b[0m                 \u001b[0margs\u001b[0m \u001b[0;34m=\u001b[0m \u001b[0margs\u001b[0m\u001b[0;34m[\u001b[0m\u001b[0;36m1\u001b[0m\u001b[0;34m:\u001b[0m\u001b[0;34m]\u001b[0m\u001b[0;34m\u001b[0m\u001b[0m\n\u001b[0;32m--> 404\u001b[0;31m             \u001b[0;32mfor\u001b[0m \u001b[0mseg\u001b[0m \u001b[0;32min\u001b[0m \u001b[0mself\u001b[0m\u001b[0;34m.\u001b[0m\u001b[0m_plot_args\u001b[0m\u001b[0;34m(\u001b[0m\u001b[0mthis\u001b[0m\u001b[0;34m,\u001b[0m \u001b[0mkwargs\u001b[0m\u001b[0;34m)\u001b[0m\u001b[0;34m:\u001b[0m\u001b[0;34m\u001b[0m\u001b[0m\n\u001b[0m\u001b[1;32m    405\u001b[0m                 \u001b[0;32myield\u001b[0m \u001b[0mseg\u001b[0m\u001b[0;34m\u001b[0m\u001b[0m\n\u001b[1;32m    406\u001b[0m \u001b[0;34m\u001b[0m\u001b[0m\n",
      "\u001b[0;32m~/anaconda3/lib/python3.6/site-packages/matplotlib/axes/_base.py\u001b[0m in \u001b[0;36m_plot_args\u001b[0;34m(self, tup, kwargs)\u001b[0m\n\u001b[1;32m    392\u001b[0m         \u001b[0mncx\u001b[0m\u001b[0;34m,\u001b[0m \u001b[0mncy\u001b[0m \u001b[0;34m=\u001b[0m \u001b[0mx\u001b[0m\u001b[0;34m.\u001b[0m\u001b[0mshape\u001b[0m\u001b[0;34m[\u001b[0m\u001b[0;36m1\u001b[0m\u001b[0;34m]\u001b[0m\u001b[0;34m,\u001b[0m \u001b[0my\u001b[0m\u001b[0;34m.\u001b[0m\u001b[0mshape\u001b[0m\u001b[0;34m[\u001b[0m\u001b[0;36m1\u001b[0m\u001b[0;34m]\u001b[0m\u001b[0;34m\u001b[0m\u001b[0m\n\u001b[1;32m    393\u001b[0m         \u001b[0;32mfor\u001b[0m \u001b[0mj\u001b[0m \u001b[0;32min\u001b[0m \u001b[0mxrange\u001b[0m\u001b[0;34m(\u001b[0m\u001b[0mmax\u001b[0m\u001b[0;34m(\u001b[0m\u001b[0mncx\u001b[0m\u001b[0;34m,\u001b[0m \u001b[0mncy\u001b[0m\u001b[0;34m)\u001b[0m\u001b[0;34m)\u001b[0m\u001b[0;34m:\u001b[0m\u001b[0;34m\u001b[0m\u001b[0m\n\u001b[0;32m--> 394\u001b[0;31m             \u001b[0mseg\u001b[0m \u001b[0;34m=\u001b[0m \u001b[0mfunc\u001b[0m\u001b[0;34m(\u001b[0m\u001b[0mx\u001b[0m\u001b[0;34m[\u001b[0m\u001b[0;34m:\u001b[0m\u001b[0;34m,\u001b[0m \u001b[0mj\u001b[0m \u001b[0;34m%\u001b[0m \u001b[0mncx\u001b[0m\u001b[0;34m]\u001b[0m\u001b[0;34m,\u001b[0m \u001b[0my\u001b[0m\u001b[0;34m[\u001b[0m\u001b[0;34m:\u001b[0m\u001b[0;34m,\u001b[0m \u001b[0mj\u001b[0m \u001b[0;34m%\u001b[0m \u001b[0mncy\u001b[0m\u001b[0;34m]\u001b[0m\u001b[0;34m,\u001b[0m \u001b[0mkw\u001b[0m\u001b[0;34m,\u001b[0m \u001b[0mkwargs\u001b[0m\u001b[0;34m)\u001b[0m\u001b[0;34m\u001b[0m\u001b[0m\n\u001b[0m\u001b[1;32m    395\u001b[0m             \u001b[0mret\u001b[0m\u001b[0;34m.\u001b[0m\u001b[0mappend\u001b[0m\u001b[0;34m(\u001b[0m\u001b[0mseg\u001b[0m\u001b[0;34m)\u001b[0m\u001b[0;34m\u001b[0m\u001b[0m\n\u001b[1;32m    396\u001b[0m         \u001b[0;32mreturn\u001b[0m \u001b[0mret\u001b[0m\u001b[0;34m\u001b[0m\u001b[0m\n",
      "\u001b[0;32m~/anaconda3/lib/python3.6/site-packages/matplotlib/axes/_base.py\u001b[0m in \u001b[0;36m_makeline\u001b[0;34m(self, x, y, kw, kwargs)\u001b[0m\n\u001b[1;32m    299\u001b[0m         \u001b[0mdefault_dict\u001b[0m \u001b[0;34m=\u001b[0m \u001b[0mself\u001b[0m\u001b[0;34m.\u001b[0m\u001b[0m_getdefaults\u001b[0m\u001b[0;34m(\u001b[0m\u001b[0;32mNone\u001b[0m\u001b[0;34m,\u001b[0m \u001b[0mkw\u001b[0m\u001b[0;34m)\u001b[0m\u001b[0;34m\u001b[0m\u001b[0m\n\u001b[1;32m    300\u001b[0m         \u001b[0mself\u001b[0m\u001b[0;34m.\u001b[0m\u001b[0m_setdefaults\u001b[0m\u001b[0;34m(\u001b[0m\u001b[0mdefault_dict\u001b[0m\u001b[0;34m,\u001b[0m \u001b[0mkw\u001b[0m\u001b[0;34m)\u001b[0m\u001b[0;34m\u001b[0m\u001b[0m\n\u001b[0;32m--> 301\u001b[0;31m         \u001b[0mseg\u001b[0m \u001b[0;34m=\u001b[0m \u001b[0mmlines\u001b[0m\u001b[0;34m.\u001b[0m\u001b[0mLine2D\u001b[0m\u001b[0;34m(\u001b[0m\u001b[0mx\u001b[0m\u001b[0;34m,\u001b[0m \u001b[0my\u001b[0m\u001b[0;34m,\u001b[0m \u001b[0;34m**\u001b[0m\u001b[0mkw\u001b[0m\u001b[0;34m)\u001b[0m\u001b[0;34m\u001b[0m\u001b[0m\n\u001b[0m\u001b[1;32m    302\u001b[0m         \u001b[0;32mreturn\u001b[0m \u001b[0mseg\u001b[0m\u001b[0;34m\u001b[0m\u001b[0m\n\u001b[1;32m    303\u001b[0m \u001b[0;34m\u001b[0m\u001b[0m\n",
      "\u001b[0;32m~/anaconda3/lib/python3.6/site-packages/matplotlib/lines.py\u001b[0m in \u001b[0;36m__init__\u001b[0;34m(self, xdata, ydata, linewidth, linestyle, color, marker, markersize, markeredgewidth, markeredgecolor, markerfacecolor, markerfacecoloralt, fillstyle, antialiased, dash_capstyle, solid_capstyle, dash_joinstyle, solid_joinstyle, pickradius, drawstyle, markevery, **kwargs)\u001b[0m\n\u001b[1;32m    424\u001b[0m         \u001b[0;31m# update kwargs before updating data to give the caller a\u001b[0m\u001b[0;34m\u001b[0m\u001b[0;34m\u001b[0m\u001b[0m\n\u001b[1;32m    425\u001b[0m         \u001b[0;31m# chance to init axes (and hence unit support)\u001b[0m\u001b[0;34m\u001b[0m\u001b[0;34m\u001b[0m\u001b[0m\n\u001b[0;32m--> 426\u001b[0;31m         \u001b[0mself\u001b[0m\u001b[0;34m.\u001b[0m\u001b[0mupdate\u001b[0m\u001b[0;34m(\u001b[0m\u001b[0mkwargs\u001b[0m\u001b[0;34m)\u001b[0m\u001b[0;34m\u001b[0m\u001b[0m\n\u001b[0m\u001b[1;32m    427\u001b[0m         \u001b[0mself\u001b[0m\u001b[0;34m.\u001b[0m\u001b[0mpickradius\u001b[0m \u001b[0;34m=\u001b[0m \u001b[0mpickradius\u001b[0m\u001b[0;34m\u001b[0m\u001b[0m\n\u001b[1;32m    428\u001b[0m         \u001b[0mself\u001b[0m\u001b[0;34m.\u001b[0m\u001b[0mind_offset\u001b[0m \u001b[0;34m=\u001b[0m \u001b[0;36m0\u001b[0m\u001b[0;34m\u001b[0m\u001b[0m\n",
      "\u001b[0;32m~/anaconda3/lib/python3.6/site-packages/matplotlib/artist.py\u001b[0m in \u001b[0;36mupdate\u001b[0;34m(self, props)\u001b[0m\n\u001b[1;32m    845\u001b[0m         \u001b[0;32mtry\u001b[0m\u001b[0;34m:\u001b[0m\u001b[0;34m\u001b[0m\u001b[0m\n\u001b[1;32m    846\u001b[0m             ret = [_update_property(self, k, v)\n\u001b[0;32m--> 847\u001b[0;31m                    for k, v in props.items()]\n\u001b[0m\u001b[1;32m    848\u001b[0m         \u001b[0;32mfinally\u001b[0m\u001b[0;34m:\u001b[0m\u001b[0;34m\u001b[0m\u001b[0m\n\u001b[1;32m    849\u001b[0m             \u001b[0mself\u001b[0m\u001b[0;34m.\u001b[0m\u001b[0meventson\u001b[0m \u001b[0;34m=\u001b[0m \u001b[0mstore\u001b[0m\u001b[0;34m\u001b[0m\u001b[0m\n",
      "\u001b[0;32m~/anaconda3/lib/python3.6/site-packages/matplotlib/artist.py\u001b[0m in \u001b[0;36m<listcomp>\u001b[0;34m(.0)\u001b[0m\n\u001b[1;32m    845\u001b[0m         \u001b[0;32mtry\u001b[0m\u001b[0;34m:\u001b[0m\u001b[0;34m\u001b[0m\u001b[0m\n\u001b[1;32m    846\u001b[0m             ret = [_update_property(self, k, v)\n\u001b[0;32m--> 847\u001b[0;31m                    for k, v in props.items()]\n\u001b[0m\u001b[1;32m    848\u001b[0m         \u001b[0;32mfinally\u001b[0m\u001b[0;34m:\u001b[0m\u001b[0;34m\u001b[0m\u001b[0m\n\u001b[1;32m    849\u001b[0m             \u001b[0mself\u001b[0m\u001b[0;34m.\u001b[0m\u001b[0meventson\u001b[0m \u001b[0;34m=\u001b[0m \u001b[0mstore\u001b[0m\u001b[0;34m\u001b[0m\u001b[0m\n",
      "\u001b[0;32m~/anaconda3/lib/python3.6/site-packages/matplotlib/artist.py\u001b[0m in \u001b[0;36m_update_property\u001b[0;34m(self, k, v)\u001b[0m\n\u001b[1;32m    838\u001b[0m                 \u001b[0mfunc\u001b[0m \u001b[0;34m=\u001b[0m \u001b[0mgetattr\u001b[0m\u001b[0;34m(\u001b[0m\u001b[0mself\u001b[0m\u001b[0;34m,\u001b[0m \u001b[0;34m'set_'\u001b[0m \u001b[0;34m+\u001b[0m \u001b[0mk\u001b[0m\u001b[0;34m,\u001b[0m \u001b[0;32mNone\u001b[0m\u001b[0;34m)\u001b[0m\u001b[0;34m\u001b[0m\u001b[0m\n\u001b[1;32m    839\u001b[0m                 \u001b[0;32mif\u001b[0m \u001b[0;32mnot\u001b[0m \u001b[0mcallable\u001b[0m\u001b[0;34m(\u001b[0m\u001b[0mfunc\u001b[0m\u001b[0;34m)\u001b[0m\u001b[0;34m:\u001b[0m\u001b[0;34m\u001b[0m\u001b[0m\n\u001b[0;32m--> 840\u001b[0;31m                     \u001b[0;32mraise\u001b[0m \u001b[0mAttributeError\u001b[0m\u001b[0;34m(\u001b[0m\u001b[0;34m'Unknown property %s'\u001b[0m \u001b[0;34m%\u001b[0m \u001b[0mk\u001b[0m\u001b[0;34m)\u001b[0m\u001b[0;34m\u001b[0m\u001b[0m\n\u001b[0m\u001b[1;32m    841\u001b[0m                 \u001b[0;32mreturn\u001b[0m \u001b[0mfunc\u001b[0m\u001b[0;34m(\u001b[0m\u001b[0mv\u001b[0m\u001b[0;34m)\u001b[0m\u001b[0;34m\u001b[0m\u001b[0m\n\u001b[1;32m    842\u001b[0m \u001b[0;34m\u001b[0m\u001b[0m\n",
      "\u001b[0;31mAttributeError\u001b[0m: Unknown property figsize"
     ]
    },
    {
     "data": {
      "image/png": "[encoded data removed]",
      "text/plain": [
       "<matplotlib.figure.Figure at 0x108bb6198>"
      ]
     },
     "metadata": {
      "image/png": {
       "height": 273,
       "width": 387
      }
     },
     "output_type": "display_data"
    }
   ],
   "source": [
    "# creating null-value density plots for each dataset\n",
    "\n",
    "def null_density (df):\n",
    "    period = []\n",
    "    null_dens = []\n",
    "    for i in [i for i in range(df.shape[1]) if i!=0]:\n",
    "        null_dens.append(df.iloc[:, i].count()/len(df.iloc[:, i]))\n",
    "        period.append(int(df.columns[i])) \n",
    "\n",
    "    # plotting results\n",
    "    \n",
    "    plt.title(\"Data density across data sets\")\n",
    "    plt.xlabel(\"Year\")\n",
    "    plt.ylabel(\"Non-null density\")\n",
    "    axes = plt.gca()\n",
    "    axes.set_ylim([0, 1])\n",
    "    plt.plot(period, null_dens, figsize=(50,50))\n",
    "    #plt.title(f.columns[0]+\". Data density\")\n",
    "    #display(plt.show())\n",
    "\n",
    "# Calling the plotting function\n",
    "for df in df_filelist:\n",
    "    f=pd.read_csv(df)\n",
    "    null_density(f)"
   ]
  },
  {
   "cell_type": "markdown",
   "metadata": {},
   "source": [
    "#### Interim observation\n",
    "A significant portion of dataset has values Missing At Random. Other features observed in the data set includes: \n",
    "- coverage of different time-period 1948-2006, 1990-2011, 1961-2009\n",
    "- coverage of different number of countries,eg/ 145, 206, 213 countries\n",
    "- values are not randomly distributed across observations, and clustered only in certain periods \n",
    "\n",
    "Additional evaluation is required to uncover null-values in each dataset. Plot density graphs and summarise the count in the table (. \n",
    "\n",
    "This may introduce uncontrolled distortion to the analysis and results. Proposed methods to address such incosistency are: \n",
    "- include alternative sources of data\n",
    "- ignore those series (countries) with less than 95% data within a period in question\n",
    "- multiple imputation for missing data if it constitutes less than 5% of the sample\n",
    "- umpute using mean for all samples belonging to the same period using .interpolate()\n",
    "- find the data series (countries), which are populated in all dataset\n",
    "- group countries in clusters based on geographical or level of economy development. \n",
    "\n",
    "The group classificiations should be completed in accordance with original data source - [World Bank](https://datahelpdesk.worldbank.org/knowledgebase/articles/378834-how-does-the-world-bank-classify-countries) and its [Databank](http://databank.worldbank.org/data/reports.aspx?source=world-development-indicators#). This allows better data fit across all data sets. [Lending groups source](https://datahelpdesk.worldbank.org/knowledgebase/articles/906519-world-bank-country-and-lending-groups).\n",
    "\n",
    "\n",
    "|BY REGION|BY INCOME|BY LENDING|\n",
    "|:-|-|-|\n",
    "|East Asia and Pacific|Low-income economies|IDA|\n",
    "|Europe and Central Asia|Lower-middle-income economies|Blend|\n",
    "|Latin America & the Caribbean|Upper-middle-income economies|IBRD|\n",
    "|Middle East and North Africa|High-income economies|-|\n",
    "|North America| -|-|\n",
    "|South Asia| -| -|\n",
    "|Sub-Saharan Africa| -| -|\n"
   ]
  },
  {
   "cell_type": "code",
   "execution_count": 377,
   "metadata": {
    "collapsed": true
   },
   "outputs": [],
   "source": [
    "# create data density info for the by region / by income / by country\n",
    "\n",
    "# aggregate this data on economical and geographical regions/sub-regions"
   ]
  },
  {
   "cell_type": "code",
   "execution_count": null,
   "metadata": {
    "collapsed": true
   },
   "outputs": [],
   "source": []
  },
  {
   "cell_type": "code",
   "execution_count": 378,
   "metadata": {
    "collapsed": true
   },
   "outputs": [],
   "source": [
    "# Find countries with density higher than 95%"
   ]
  },
  {
   "cell_type": "code",
   "execution_count": null,
   "metadata": {
    "collapsed": true
   },
   "outputs": [],
   "source": []
  },
  {
   "cell_type": "code",
   "execution_count": null,
   "metadata": {
    "collapsed": true
   },
   "outputs": [],
   "source": []
  },
  {
   "cell_type": "markdown",
   "metadata": {},
   "source": [
    "#### Before conclusion\n",
    "Information consistenly covers OECD countries. Most of the data comes from Americas, Europe and Asia. Data from Africa can be dropped as incomplete. Absence if Africa and South East Asia is a bias.\n",
    "\n",
    "### Data Cleaning (Replace this with more specific notes!)"
   ]
  },
  {
   "cell_type": "code",
   "execution_count": 41,
   "metadata": {
    "collapsed": true
   },
   "outputs": [],
   "source": [
    "# After discussing the structure of the data and any problems that need to be\n",
    "# cleaned, perform those cleaning steps in the second part of this section.\n",
    "\n"
   ]
  },
  {
   "cell_type": "markdown",
   "metadata": {},
   "source": [
    "<a id='eda'></a>\n",
    "## Exploratory Data Analysis\n",
    "\n",
    "> **Tip**: Now that you've trimmed and cleaned your data, you're ready to move on to exploration. Compute statistics and create visualizations with the goal of addressing the research questions that you posed in the Introduction section. It is recommended that you be systematic with your approach. Look at one variable at a time, and then follow it up by looking at relationships between variables.\n",
    "\n",
    "### Q1. Does bank interest rate correlates with GDP growth, Investment Inflows, Export and Debt servicing cost?"
   ]
  },
  {
   "cell_type": "code",
   "execution_count": null,
   "metadata": {
    "collapsed": true
   },
   "outputs": [],
   "source": [
    "# Use this, and more code cells, to explore your data. Don't forget to add\n",
    "#   Markdown cells to document your observations and findings.\n"
   ]
  },
  {
   "cell_type": "markdown",
   "metadata": {},
   "source": [
    "### Q2 Does interest rate has a direct connection with inflation, tax and unemployement rate?"
   ]
  },
  {
   "cell_type": "code",
   "execution_count": 5,
   "metadata": {
    "collapsed": true
   },
   "outputs": [],
   "source": [
    "# Continue to explore the data to address your additional research\n",
    "#   questions. Add more headers as needed if you have more questions to\n",
    "#   investigate.\n"
   ]
  },
  {
   "cell_type": "markdown",
   "metadata": {},
   "source": [
    "<a id='conclusions'></a>\n",
    "## Conclusions\n",
    "\n",
    "\n",
    "findings are tentative\n",
    "required to use inferential statistics or machine learning to complete this project\n",
    "\n",
    "\n",
    "> **Tip**: Finally, summarize your findings and the results that have been performed. Make sure that you are clear with regards to the limitations of your exploration. If you haven't done any statistical tests, do not imply any statistical conclusions. And make sure you avoid implying causation from correlation!\n",
    "\n",
    "> **Tip**: Once you are satisfied with your work, you should save a copy of the report in HTML or PDF form. Before exporting your report, check over it to make sure that the flow of the report is complete. You should probably remove all of the \"Tip\" quotes like this one so that the presentation is as tidy as possible. It's also a good idea to look over the project rubric, found on the project submission page at the end of the lesson.\n",
    "\n",
    "> To export the report to the workspace, you should run the code cell below. If it worked correctly, you should get a return code of 0, and you should see the generated .html file in the workspace directory (click on the jupyter icon in the upper left). Alternatively, you can download the html report via the **File** > **Download as** submenu and then manually upload it to the workspace directory. Once you've done this, you can submit your project by clicking on the \"Submit Project\" button in the lower right. Congratulations!"
   ]
  },
  {
   "cell_type": "code",
   "execution_count": null,
   "metadata": {
    "collapsed": true
   },
   "outputs": [],
   "source": [
    "from subprocess import call\n",
    "call(['python', '-m', 'nbconvert', 'Investigate_a_Dataset.ipynb'])"
   ]
  }
 ],
 "metadata": {
  "kernelspec": {
   "display_name": "Python [default]",
   "language": "python",
   "name": "python3"
  },
  "language_info": {
   "codemirror_mode": {
    "name": "ipython",
    "version": 3
   },
   "file_extension": ".py",
   "mimetype": "text/x-python",
   "name": "python",
   "nbconvert_exporter": "python",
   "pygments_lexer": "ipython3",
   "version": "3.6.3"
  }
 },
 "nbformat": 4,
 "nbformat_minor": 2
}
