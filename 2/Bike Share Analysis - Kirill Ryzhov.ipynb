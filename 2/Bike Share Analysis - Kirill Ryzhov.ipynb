{
 "cells": [
  {
   "cell_type": "markdown",
   "metadata": {},
   "source": [
    "# 2016 US Bike Share Activity Snapshot\n",
    "\n",
    "## Table of Contents\n",
    "- [Introduction](#intro)\n",
    "- [Posing Questions](#pose_questions)\n",
    "- [Data Collection and Wrangling](#wrangling)\n",
    "  - [Condensing the Trip Data](#condensing)\n",
    "- [Exploratory Data Analysis](#eda)\n",
    "  - [Statistics](#statistics)\n",
    "  - [Visualizations](#visualizations)\n",
    "- [Performing Your Own Analysis](#eda_continued)\n",
    "- [Conclusions](#conclusions)\n",
    "\n",
    "<a id='intro'></a>\n",
    "## Introduction\n",
    "\n",
    "Over the past decade, bicycle-sharing systems have been growing in number and popularity in cities across the world. Bicycle-sharing systems allow users to rent bicycles for short trips, typically 30 minutes or less. Thanks to the rise in information technologies, it is easy for a user of the system to access a dock within the system to unlock or return bicycles. These technologies also provide a wealth of data that can be used to explore how these bike-sharing systems are used.\n",
    "\n",
    "In this project, you will perform an exploratory analysis on data provided by [Motivate](https://www.motivateco.com/), a bike-share system provider for many major cities in the United States. You will compare the system usage between three large cities: New York City, Chicago, and Washington, DC. You will also see if there are any differences within each system for those users that are registered, regular users and those users that are short-term, casual users."
   ]
  },
  {
   "cell_type": "markdown",
   "metadata": {},
   "source": [
    "<a id='pose_questions'></a>\n",
    "## Posing Questions\n",
    "\n",
    "Before looking at the bike sharing data, you should start by asking questions you might want to understand about the bike share data. Consider, for example, if you were working for Motivate. What kinds of information would you want to know about in order to make smarter business decisions? If you were a user of the bike-share service, what factors might influence how you would want to use the service?\n",
    "\n",
    "**Question 1**: Write at least two questions related to bike sharing that you think could be answered by data.\n",
    "\n",
    "**Answer**: <br>\n",
    "City perspective:<br> \n",
    "- Usage: Average bike downtime;\n",
    "- Usage: Trips Taken per month per bike (or per Subscriber);\n",
    "- Usage: Average Distance, Average Trip Duration;\n",
    "- Revenue stream: Number of subscribers;\n",
    "- Performance: Popular Routes and Nodes;\n",
    "- Performance: as above taken to each day hour;\n",
    "- Performance: busiest time of a day;\n",
    "\n",
    "Similarities of bike usage for each city:\n",
    "- Marketing: Subscribers to Customers ratio;\n",
    "- Marketing: Weekdays vs. Weekend vs. Holidays number of rides;\n",
    "- Usage: Number of subscribers per station;\n",
    "- Usage: Trip durations (or distance) per subscriber or per customer;\n",
    "- Usage: Average Speed (Distance/Duration)\n",
    "\n",
    "From user perspective:\n",
    "- Availability and reliability of service, ie availablity of bike at each station."
   ]
  },
  {
   "cell_type": "markdown",
   "metadata": {},
   "source": [
    "<a id='wrangling'></a>\n",
    "## Data Collection and Wrangling\n",
    "\n",
    "Now it's time to collect and explore our data. In this project, we will focus on the record of individual trips taken in 2016 from our selected cities: New York City, Chicago, and Washington, DC. Each of these cities has a page where we can freely download the trip data.:\n",
    "\n",
    "- New York City (Citi Bike): [Link](https://www.citibikenyc.com/system-data)\n",
    "- Chicago (Divvy): [Link](https://www.divvybikes.com/system-data)\n",
    "- Washington, DC (Capital Bikeshare): [Link](https://www.capitalbikeshare.com/system-data)\n",
    "\n",
    "If you visit these pages, you will notice that each city has a different way of delivering its data. Chicago updates with new data twice a year, Washington DC is quarterly, and New York City is monthly. **However, you do not need to download the data yourself.** The data has already been collected for you in the `/data/` folder of the project files. While the original data for 2016 is spread among multiple files for each city, the files in the `/data/` folder collect all of the trip data for the year into one file per city. Some data wrangling of inconsistencies in timestamp format within each city has already been performed for you. In addition, a random 2% sample of the original data is taken to make the exploration more manageable. \n",
    "\n",
    "**Question 2**: However, there is still a lot of data for us to investigate, so it's a good idea to start off by looking at one entry from each of the cities we're going to analyze. Run the first code cell below to load some packages and functions that you'll be using in your analysis. Then, complete the second code cell to print out the first trip recorded from each of the cities (the second line of each data file)."
   ]
  },
  {
   "cell_type": "code",
   "execution_count": 19,
   "metadata": {
    "collapsed": true
   },
   "outputs": [],
   "source": [
    "## import all necessary packages and functions.\n",
    "import csv # read and write csv files\n",
    "import calendar # to recieve day name for the date\n",
    "from datetime import datetime # operations to parse dates\n",
    "from pprint import pprint # use to print data structures like dictionaries in\n",
    "                          # a nicer way than the base print function."
   ]
  },
  {
   "cell_type": "code",
   "execution_count": 21,
   "metadata": {},
   "outputs": [
    {
     "name": "stdout",
     "output_type": "stream",
     "text": [
      "\n",
      "City: NYC\n",
      "OrderedDict([('tripduration', '839'),\n",
      "             ('starttime', '1/1/2016 00:09:55'),\n",
      "             ('stoptime', '1/1/2016 00:23:54'),\n",
      "             ('start station id', '532'),\n",
      "             ('start station name', 'S 5 Pl & S 4 St'),\n",
      "             ('start station latitude', '40.710451'),\n",
      "             ('start station longitude', '-73.960876'),\n",
      "             ('end station id', '401'),\n",
      "             ('end station name', 'Allen St & Rivington St'),\n",
      "             ('end station latitude', '40.72019576'),\n",
      "             ('end station longitude', '-73.98997825'),\n",
      "             ('bikeid', '17109'),\n",
      "             ('usertype', 'Customer'),\n",
      "             ('birth year', ''),\n",
      "             ('gender', '0')])\n",
      "\n",
      "City: Chicago\n",
      "OrderedDict([('trip_id', '9080545'),\n",
      "             ('starttime', '3/31/2016 23:30'),\n",
      "             ('stoptime', '3/31/2016 23:46'),\n",
      "             ('bikeid', '2295'),\n",
      "             ('tripduration', '926'),\n",
      "             ('from_station_id', '156'),\n",
      "             ('from_station_name', 'Clark St & Wellington Ave'),\n",
      "             ('to_station_id', '166'),\n",
      "             ('to_station_name', 'Ashland Ave & Wrightwood Ave'),\n",
      "             ('usertype', 'Subscriber'),\n",
      "             ('gender', 'Male'),\n",
      "             ('birthyear', '1990')])\n",
      "\n",
      "City: Washington\n",
      "OrderedDict([('Duration (ms)', '427387'),\n",
      "             ('Start date', '3/31/2016 22:57'),\n",
      "             ('End date', '3/31/2016 23:04'),\n",
      "             ('Start station number', '31602'),\n",
      "             ('Start station', 'Park Rd & Holmead Pl NW'),\n",
      "             ('End station number', '31207'),\n",
      "             ('End station', 'Georgia Ave and Fairmont St NW'),\n",
      "             ('Bike number', 'W20842'),\n",
      "             ('Member Type', 'Registered')])\n"
     ]
    }
   ],
   "source": [
    "def print_first_point(filename):\n",
    "    \"\"\"\n",
    "    This function prints and returns the first data point (second row) from\n",
    "    a csv file that includes a header row.\n",
    "    \"\"\"\n",
    "    # print city name for reference\n",
    "    city = filename.split('-')[0].split('/')[-1]\n",
    "    print('\\nCity: {}'.format(city))\n",
    "    \n",
    "    with open(filename, 'r') as f_in:\n",
    "        #Use the csv library to set up a DictReader object\n",
    "        trip_reader = csv.DictReader(f_in)\n",
    "        \n",
    "        # Use a function on the DictReader object to read the first trip from the data file and store it in a variable.\n",
    "        first_trip = next(trip_reader)\n",
    "        \n",
    "        # Use the pprint library to print the first trip.\n",
    "        pprint (first_trip)\n",
    "        \n",
    "    # output city name and first trip for later testing\n",
    "    return (city, first_trip)\n",
    "\n",
    "# list of files for each city\n",
    "data_files = ['./data/NYC-CitiBike-2016.csv',\n",
    "              './data/Chicago-Divvy-2016.csv',\n",
    "              './data/Washington-CapitalBikeshare-2016.csv',]\n",
    "\n",
    "# print the first trip from each file, store in dictionary\n",
    "example_trips = {}\n",
    "for data_file in data_files:\n",
    "    city, first_trip = print_first_point(data_file)\n",
    "    example_trips[city] = first_trip"
   ]
  },
  {
   "cell_type": "markdown",
   "metadata": {},
   "source": [
    "If everything has been filled out correctly, you should see below the printout of each city name (which has been parsed from the data file name) that the first trip has been parsed in the form of a dictionary. When you set up a `DictReader` object, the first row of the data file is normally interpreted as column names. Every other row in the data file will use those column names as keys, as a dictionary is generated for each row.\n",
    "\n",
    "This will be useful since we can refer to quantities by an easily-understandable label instead of just a numeric index. For example, if we have a trip stored in the variable `row`, then we would rather get the trip duration from `row['duration']` instead of `row[0]`.\n",
    "\n",
    "<a id='condensing'></a>\n",
    "### Condensing the Trip Data\n",
    "\n",
    "It should also be observable from the above printout that each city provides different information. Even where the information is the same, the column names and formats are sometimes different. To make things as simple as possible when we get to the actual exploration, we should trim and clean the data. Cleaning the data makes sure that the data formats across the cities are consistent, while trimming focuses only on the parts of the data we are most interested in to make the exploration easier to work with.\n",
    "\n",
    "You will generate new data files with five values of interest for each trip: trip duration, starting month, starting hour, day of the week, and user type. Each of these may require additional wrangling depending on the city:\n",
    "\n",
    "- **Duration**: This has been given to us in seconds (New York, Chicago) or milliseconds (Washington). A more natural unit of analysis will be if all the trip durations are given in terms of minutes.\n",
    "- **Month**, **Hour**, **Day of Week**: Ridership volume is likely to change based on the season, time of day, and whether it is a weekday or weekend. Use the start time of the trip to obtain these values. The New York City data includes the seconds in their timestamps, while Washington and Chicago do not. The [`datetime`](https://docs.python.org/3/library/datetime.html) package will be very useful here to make the needed conversions.\n",
    "- **User Type**: It is possible that users who are subscribed to a bike-share system will have different patterns of use compared to users who only have temporary passes. Washington divides its users into two types: 'Registered' for users with annual, monthly, and other longer-term subscriptions, and 'Casual', for users with 24-hour, 3-day, and other short-term passes. The New York and Chicago data uses 'Subscriber' and 'Customer' for these groups, respectively. For consistency, you will convert the Washington labels to match the other two.\n",
    "\n",
    "\n",
    "**Question 3a**: Complete the helper functions in the code cells below to address each of the cleaning tasks described above."
   ]
  },
  {
   "cell_type": "code",
   "execution_count": 22,
   "metadata": {
    "collapsed": true
   },
   "outputs": [],
   "source": [
    "def duration_in_mins(datum, city):\n",
    "    \"\"\"\n",
    "    Takes as input a dictionary containing info about a single trip (datum) and\n",
    "    its origin city (city) and returns the trip duration in units of minutes.\n",
    "    \n",
    "    Remember that Washington is in terms of milliseconds while Chicago and NYC\n",
    "    are in terms of seconds. \n",
    "    \"\"\"\n",
    "    if city == 'NYC':\n",
    "        duration=int(datum['tripduration'])/60\n",
    "        \n",
    "    elif city == 'Chicago':\n",
    "            duration=int(datum['tripduration'])/60\n",
    "        \n",
    "    elif city == 'Washington':\n",
    "            duration=int(datum['Duration (ms)'])/60000\n",
    "            \n",
    "    else: \n",
    "        print('Code does not recognise the input: CITY ERROR')\n",
    "    \n",
    "    return duration\n",
    "\n",
    "\n",
    "# Some tests to check that your code works. There should be no output if all of\n",
    "# the assertions pass. The `example_trips` dictionary was obtained from when\n",
    "# you printed the first trip from each of the original data files.\n",
    "tests = {'NYC': 13.9833,\n",
    "         'Chicago': 15.4333,\n",
    "         'Washington': 7.1231}\n",
    "\n",
    "for city in tests:\n",
    "    assert abs(duration_in_mins(example_trips[city], city) - tests[city]) < .001"
   ]
  },
  {
   "cell_type": "code",
   "execution_count": 23,
   "metadata": {
    "collapsed": true
   },
   "outputs": [],
   "source": [
    "def time_of_trip(datum, city):\n",
    "    \"\"\"\n",
    "    Takes as input a dictionary containing info about a single trip (datum) and\n",
    "    its origin city (city) and returns the month, hour, and day of the week in\n",
    "    which the trip was made.\n",
    "    'starttime', '1/1/2016 00:09:55'\n",
    "    'starttime', '3/31/2016 23:30'\n",
    "    'Start date', '3/31/2016 22:57'\n",
    "    Remember: \n",
    "    - NYC includes seconds, while Washington and Chicago do not.\n",
    "    - NOT IMPLEMENTED: different time zones - UTC\n",
    "    \"\"\"\n",
    "    \n",
    "    if city == 'NYC':\n",
    "        time_stamp = datetime.strptime(datum['starttime'], \"%m/%d/%Y %H:%M:%S\")\n",
    "        \n",
    "        \n",
    "    elif city == 'Chicago':\n",
    "        time_stamp = datetime.strptime(datum['starttime'], \"%m/%d/%Y %H:%M\")\n",
    "        \n",
    "        \n",
    "    elif city == 'Washington':\n",
    "        time_stamp = datetime.strptime(datum['Start date'], \"%m/%d/%Y %H:%M\")\n",
    "            \n",
    "    else: \n",
    "        print('Code does not recognise the input: CITY ERROR')\n",
    "    \n",
    "    day_of_week = time_stamp.strftime('%A')\n",
    "    month = time_stamp.month\n",
    "    hour = time_stamp.hour\n",
    "    return (month, hour, day_of_week)\n",
    "\n",
    "\n",
    "# Some tests to check that your code works. There should be no output if all of\n",
    "# the assertions pass. The `example_trips` dictionary was obtained from when\n",
    "# you printed the first trip from each of the original data files.\n",
    "tests = {'NYC': (1, 0, 'Friday'),\n",
    "         'Chicago': (3, 23, 'Thursday'),\n",
    "         'Washington': (3, 22, 'Thursday')}\n",
    "\n",
    "for city in tests:\n",
    "    assert time_of_trip(example_trips[city], city) == tests[city]"
   ]
  },
  {
   "cell_type": "code",
   "execution_count": 25,
   "metadata": {
    "collapsed": true
   },
   "outputs": [],
   "source": [
    "def type_of_user(datum, city):\n",
    "    \"\"\"\n",
    "    Takes as input a dictionary containing info about a single trip (datum) and\n",
    "    its origin city (city) and returns the type of system user that made the\n",
    "    trip.\n",
    "    \n",
    "    Remember that Washington has different category names compared to Chicago and NYC. \n",
    "    NYC-'usertype', 'Customer', 'Subscriber'\n",
    "    Chicago-'usertype', 'Subscriber', 'Customer',\n",
    "    Wash-'Member Type', 'Registered', 'Casual'\n",
    "    \"\"\"\n",
    "    \n",
    "    if city == 'NYC' or city == 'Chicago':\n",
    "        user_type = datum['usertype']      \n",
    "        \n",
    "    elif city == 'Washington':\n",
    "    #If block unifies usetype across the code\n",
    "        if datum['Member Type']==\"Registered\":\n",
    "            user_type = 'Subscriber'\n",
    "        elif datum['Member Type']==\"Casual\":\n",
    "            user_type = 'Customer'\n",
    "        else:\n",
    "            print ('Usertype Error')\n",
    "    else: \n",
    "        print('Code does not recognise the input: CITY ERROR')\n",
    "    \n",
    "    return user_type\n",
    "\n",
    "\n",
    "# Some tests to check that your code works. There should be no output if all of\n",
    "# the assertions pass. The `example_trips` dictionary was obtained from when\n",
    "# you printed the first trip from each of the original data files.\n",
    "tests = {'NYC': 'Customer',\n",
    "         'Chicago': 'Subscriber',\n",
    "         'Washington': 'Subscriber'}\n",
    "\n",
    "for city in tests:\n",
    "    assert type_of_user(example_trips[city], city) == tests[city]"
   ]
  },
  {
   "cell_type": "markdown",
   "metadata": {},
   "source": [
    "**Question 3b**: Now, use the helper functions you wrote above to create a condensed data file for each city consisting only of the data fields indicated above. In the `/examples/` folder, you will see an example datafile from the [Bay Area Bike Share](http://www.bayareabikeshare.com/open-data) before and after conversion. Make sure that your output is formatted to be consistent with the example file."
   ]
  },
  {
   "cell_type": "code",
   "execution_count": 26,
   "metadata": {
    "collapsed": true
   },
   "outputs": [],
   "source": [
    "def condense_data(in_file, out_file, city):\n",
    "    \"\"\"\n",
    "    This function takes full data from the specified input file\n",
    "    and writes the condensed data to a specified output file. The city\n",
    "    argument determines how the input file will be parsed.\n",
    "    \"\"\"\n",
    "    \n",
    "    with open(out_file, 'w') as f_out, open(in_file, 'r') as f_in:\n",
    "        # set up csv DictWriter object - writer requires column names for the\n",
    "        # first row as the \"fieldnames\" argument\n",
    "        out_colnames = ['duration', 'month', 'hour', 'day_of_week', 'user_type']        \n",
    "        trip_writer = csv.DictWriter(f_out, fieldnames = out_colnames)\n",
    "        trip_writer.writeheader()\n",
    "        \n",
    "        ## Set up csv DictReader object ##\n",
    "        trip_reader = csv.DictReader(f_in)\n",
    "\n",
    "        # collect data from and process each row        \n",
    "        for row in trip_reader:\n",
    "            # Setting up a dictionary to hold the values for the cleaned and trimmed data point\n",
    "            new_point = {}\n",
    "            # Using the helper functions to get the cleaned data from the original data dictionaries\n",
    "            new_point[out_colnames[0]]= duration_in_mins(row, city)\n",
    "            new_point[out_colnames[1]], new_point[out_colnames[2]], new_point[out_colnames[3]]=time_of_trip(row, city)\n",
    "            new_point[out_colnames[4]]=type_of_user(row, city)\n",
    "            # Writing processed information to the output file.\n",
    "            trip_writer.writerow(new_point)\n",
    "            "
   ]
  },
  {
   "cell_type": "code",
   "execution_count": 27,
   "metadata": {},
   "outputs": [
    {
     "name": "stdout",
     "output_type": "stream",
     "text": [
      "\n",
      "City: Washington\n",
      "OrderedDict([('duration', '7.123116666666666'),\n",
      "             ('month', '3'),\n",
      "             ('hour', '22'),\n",
      "             ('day_of_week', 'Thursday'),\n",
      "             ('user_type', 'Subscriber')])\n",
      "\n",
      "City: Chicago\n",
      "OrderedDict([('duration', '15.433333333333334'),\n",
      "             ('month', '3'),\n",
      "             ('hour', '23'),\n",
      "             ('day_of_week', 'Thursday'),\n",
      "             ('user_type', 'Subscriber')])\n",
      "\n",
      "City: NYC\n",
      "OrderedDict([('duration', '13.983333333333333'),\n",
      "             ('month', '1'),\n",
      "             ('hour', '0'),\n",
      "             ('day_of_week', 'Friday'),\n",
      "             ('user_type', 'Customer')])\n"
     ]
    }
   ],
   "source": [
    "# Run this cell to check your work\n",
    "city_info = {'Washington': {'in_file': './data/Washington-CapitalBikeshare-2016.csv',\n",
    "                            'out_file': './data/Washington-2016-Summary.csv'},\n",
    "             'Chicago': {'in_file': './data/Chicago-Divvy-2016.csv',\n",
    "                         'out_file': './data/Chicago-2016-Summary.csv'},\n",
    "             'NYC': {'in_file': './data/NYC-CitiBike-2016.csv',\n",
    "                     'out_file': './data/NYC-2016-Summary.csv'}}\n",
    "\n",
    "for city, filenames in city_info.items():\n",
    "    condense_data(filenames['in_file'], filenames['out_file'], city)\n",
    "    print_first_point(filenames['out_file'])"
   ]
  },
  {
   "cell_type": "markdown",
   "metadata": {},
   "source": [
    "> **Tip**: If you save a jupyter Notebook, the output from running code blocks will also be saved. However, the state of your workspace will be reset once a new session is started. Make sure that you run all of the necessary code blocks from your previous session to reestablish variables and functions before picking up where you last left off.\n",
    "\n",
    "<a id='eda'></a>\n",
    "## Exploratory Data Analysis\n",
    "\n",
    "Now that you have the data collected and wrangled, you're ready to start exploring the data. In this section you will write some code to compute descriptive statistics from the data. You will also be introduced to the `matplotlib` library to create some basic histograms of the data.\n",
    "\n",
    "<a id='statistics'></a>\n",
    "### Statistics\n",
    "\n",
    "First, let's compute some basic counts. The first cell below contains a function that uses the csv module to iterate through a provided data file, returning the number of trips made by subscribers and customers. The second cell runs this function on the example Bay Area data in the `/examples/` folder. Modify the cells to answer the question below.\n",
    "\n",
    "**Question 4a**: Which city has the highest number of trips? Which city has the highest proportion of trips made by subscribers? Which city has the highest proportion of trips made by short-term customers?\n",
    "\n",
    "**Answer**: \n",
    "New York has higher number of trips (267k), than Washington (66k) and Chicago (72k) combined. New York also has higher proportion of trips made by subscribers (89%). Chicago has higher percentage of trips made by short-term customers (24%).\n",
    "\n",
    "Note: The data analysed for this answer constitutes different time periods: NYC operations has longer history than Washington and Chicago branches."
   ]
  },
  {
   "cell_type": "code",
   "execution_count": 29,
   "metadata": {
    "collapsed": true
   },
   "outputs": [],
   "source": [
    "def number_of_trips(filename):\n",
    "    \"\"\"\n",
    "    This function reads in a file with trip data and reports the number of\n",
    "    trips made by subscribers, customers, and total overall.\n",
    "    \"\"\"\n",
    "    with open(filename, 'r') as f_in:\n",
    "        # set up csv reader object\n",
    "        reader = csv.DictReader(f_in)\n",
    "        \n",
    "        # initialize count variables\n",
    "        n_subscribers = 0\n",
    "        n_customers = 0\n",
    "        \n",
    "        # total trip by subscribers and customers\n",
    "        for row in reader:\n",
    "            if row['user_type'] == 'Subscriber':\n",
    "                n_subscribers += 1\n",
    "            else:\n",
    "                n_customers += 1\n",
    "        \n",
    "        # compute total number of rides\n",
    "        # IMPORTANT: The data has to be gathered from 1/4/2016 since NYC has longer history!\n",
    "        n_total = n_subscribers + n_customers \n",
    "    \n",
    "        # return tallies as a tuple\n",
    "        return(n_total, round(n_subscribers/n_total*100,2), round(n_customers/n_total*100,2))"
   ]
  },
  {
   "cell_type": "code",
   "execution_count": 30,
   "metadata": {},
   "outputs": [
    {
     "name": "stdout",
     "output_type": "stream",
     "text": [
      "NYC: \n",
      "Total rides 276,798.\n",
      "Trips made by subscribers 88.84%.\n",
      "Trips made by customers 11.16%.\n",
      "\n",
      "Chicago: \n",
      "Total rides 72,131. \n",
      "Trips made by subscribers 76.23%. \n",
      "trips made by customers 23.77%.\n",
      "\n",
      "Washington: \n",
      "Total rides 66,326.\n",
      "Trips made by subscribers 78.03%. \n",
      "Trips made by customers 21.97%.\n",
      "\n"
     ]
    }
   ],
   "source": [
    "## Modify this and the previous cell to answer Question 4a. Remember to run ##\n",
    "## the function on the cleaned data files you created from Question 3.      ##\n",
    "\n",
    "data_file = ['./examples/BayArea-Y3-Summary.csv','./data/NYC-2016-Summary.csv', './data/Chicago-2016-Summary.csv','./data/Washington-2016-Summary.csv']\n",
    "\n",
    "print('''NYC: \n",
    "Total rides {0[0]:,}.\n",
    "Trips made by subscribers {0[1]}%.\n",
    "Trips made by customers {0[2]}%.\n",
    "'''.format(number_of_trips(data_file[1])))\n",
    "print('''Chicago: \n",
    "Total rides {0[0]:,}. \n",
    "Trips made by subscribers {0[1]}%. \n",
    "trips made by customers {0[2]}%.\n",
    "'''.format(number_of_trips(data_file[2])))\n",
    "print('''Washington: \n",
    "Total rides {0[0]:,}.\n",
    "Trips made by subscribers {0[1]}%. \n",
    "Trips made by customers {0[2]}%.\n",
    "'''.format(number_of_trips(data_file[3])))"
   ]
  },
  {
   "cell_type": "markdown",
   "metadata": {},
   "source": [
    "**Question 4b**: Bike-share systems are designed for riders to take short trips. Most of the time, users are allowed to take trips of 30 minutes or less with no additional charges, with overage charges made for trips of longer than that duration. What is the average trip length for each city? What proportion of rides made in each city are longer than 30 minutes?\n",
    "\n",
    "**Answer**: New York average trip duration is ≈16 minutes, and long trips constitute 7.3% of all trips.\n",
    "Chicago average trip is a minute longer (≈17min), and proportion of long trips longer than 30 minutes is greater (8.33%). Trips in Washington are on average ≈19min long, which may result in higher portion of trips over 30min (10.84%). \n",
    "\n",
    "We can hypothesize that higher percentage of rides above the 30min threshold is caused by city planning and longer distances to be travelled. Exploring the data further may expose other particularities and streghten or overturn the hypothesis."
   ]
  },
  {
   "cell_type": "code",
   "execution_count": 31,
   "metadata": {
    "scrolled": true
   },
   "outputs": [
    {
     "name": "stdout",
     "output_type": "stream",
     "text": [
      "NYC:\n",
      "Average trip duration 15.81 min.\n",
      "Long trips constitute 7.3% of all trips.\n",
      "\n",
      "Chicago:\n",
      "Average trip duration 16.56 min.\n",
      "Long trips 8.33%.\n",
      "\n",
      "Washington:\n",
      "Average trip duration 18.93 min.\n",
      "Long trips 10.84%.\n",
      "\n"
     ]
    }
   ],
   "source": [
    "## TIP: For the Bay Area example, the average trip length is 14 minutes ##\n",
    "## and 3.5% of trips are longer than 30 minutes.                        ##\n",
    "\n",
    "def duration_of_trips(filename):\n",
    "    \"\"\"\n",
    "    This function reads in a file with trip data and reports the number of\n",
    "    trips below and above 30min threshold.\n",
    "    \"\"\"\n",
    "    with open(filename, 'r') as f_in:\n",
    "        # set up csv reader object\n",
    "        reader = csv.DictReader(f_in)\n",
    "        \n",
    "        # initialize count variables\n",
    "        total_duration = 0\n",
    "        n_short_trips = 0\n",
    "        n_long_trips = 0\n",
    "        \n",
    "        # total trip by subscribers and customers\n",
    "        for row in reader:\n",
    "            total_duration+=float(row['duration'])        \n",
    "            \n",
    "            if float(row['duration']) > 30:\n",
    "                n_long_trips += 1\n",
    "            else:\n",
    "                n_short_trips += 1\n",
    "        \n",
    "        # compute total number of rides\n",
    "        n_trips = n_short_trips + n_long_trips \n",
    "        average_duration = total_duration/n_trips\n",
    "        \n",
    "        # return tallies as a tuple\n",
    "        return(round(average_duration,2), round(n_short_trips/n_trips*100,2), round(n_long_trips/n_trips*100,2))\n",
    "\n",
    "data_file = ['./examples/BayArea-Y3-Summary.csv','./data/NYC-2016-Summary.csv', './data/Chicago-2016-Summary.csv','./data/Washington-2016-Summary.csv']\n",
    "\n",
    "print('''NYC:\n",
    "Average trip duration {0[0]:,} min.\n",
    "Long trips constitute {0[2]}% of all trips.\n",
    "'''.format(duration_of_trips(data_file[1])))\n",
    "print('''Chicago:\n",
    "Average trip duration {0[0]:,} min.\n",
    "Long trips {0[2]}%.\n",
    "'''.format(duration_of_trips(data_file[2])))\n",
    "print('''Washington:\n",
    "Average trip duration {0[0]:,} min.\n",
    "Long trips {0[2]}%.\n",
    "'''.format(duration_of_trips(data_file[3])))\n"
   ]
  },
  {
   "cell_type": "markdown",
   "metadata": {},
   "source": [
    "**Question 4c**: Dig deeper into the question of trip duration based on ridership. Choose one city. Within that city, which type of user takes longer rides on average: Subscribers or Customers?\n",
    "\n",
    "**Answer**: One of the possible corrective actions for 4b would be allowing longer non-penalised trips. Thus, I have chosen to explore Washigton data further. The average trip for Washington scheme subscriber is ≈12.5min, which is 3.2 times shorter than that of the unregistered user (≈42min). Therefore, the original hypothesis was incorrect, since the average trip duration is being affected of higher percentage of unregistered customers making significnatly longer trips."
   ]
  },
  {
   "cell_type": "code",
   "execution_count": 32,
   "metadata": {},
   "outputs": [
    {
     "name": "stdout",
     "output_type": "stream",
     "text": [
      "Washington:\n",
      "Subscribers average trip duration 12.53min.\n",
      "Customers average trip duration 41.68min.\n",
      "\n"
     ]
    }
   ],
   "source": [
    "## Use this and additional cells to answer Question 4c. If you have    ##\n",
    "## not done so yet, consider revising some of your previous code to    ##\n",
    "## make use of functions for reusability.                              ##\n",
    "##                                                                     ##\n",
    "## TIP: For the Bay Area example data, you should find the average     ##\n",
    "## Subscriber trip duration to be 9.5 minutes and the average Customer ##\n",
    "## trip duration to be 54.6 minutes. Do the other cities have this     ##\n",
    "## level of difference?                                                ##\n",
    "\n",
    "def duration_of_trips(filename):\n",
    "    \"\"\"\n",
    "    This function reads in a file with trip data and reports the number of\n",
    "    trips below and above 30min threshold.\n",
    "    \"\"\"\n",
    "    with open(filename, 'r') as f_in:\n",
    "        # set up csv reader object\n",
    "        reader = csv.DictReader(f_in)\n",
    "        \n",
    "        # initialize count variables\n",
    "        subscribers_duration = 0\n",
    "        customer_duration = 0\n",
    "        n_subscriber_trips = 0\n",
    "        n_customer_trips = 0\n",
    "        \n",
    "        # total trip by subscribers and customers\n",
    "        for row in reader:\n",
    "            if row['user_type'] == 'Subscriber':\n",
    "                subscribers_duration += float(row['duration'])\n",
    "                n_subscriber_trips += 1\n",
    "            else:\n",
    "                customer_duration += float(row['duration'])\n",
    "                n_customer_trips += 1\n",
    "        \n",
    "        # return tallies as a tuple\n",
    "        return(round(subscribers_duration/n_subscriber_trips,2), round(customer_duration/n_customer_trips,2))\n",
    "\n",
    "data_file = ['./examples/BayArea-Y3-Summary.csv','./data/NYC-2016-Summary.csv', './data/Chicago-2016-Summary.csv','./data/Washington-2016-Summary.csv']\n",
    "\n",
    "print('''Washington:\n",
    "Subscribers average trip duration {0[0]:,}min.\n",
    "Customers average trip duration {0[1]}min.\n",
    "'''.format(duration_of_trips(data_file[3])))\n"
   ]
  },
  {
   "cell_type": "markdown",
   "metadata": {},
   "source": [
    "<a id='visualizations'></a>\n",
    "### Visualizations\n",
    "\n",
    "The last set of values that you computed should have pulled up an interesting result. While the mean trip time for Subscribers is well under 30 minutes, the mean trip time for Customers is actually _above_ 30 minutes! It will be interesting for us to look at how the trip times are distributed. In order to do this, a new library will be introduced here, `matplotlib`. Run the cell below to load the library and to generate an example plot."
   ]
  },
  {
   "cell_type": "code",
   "execution_count": 1,
   "metadata": {},
   "outputs": [
    {
     "data": {
      "image/png": "[encoded data removed]",
      "text/plain": [
       "<matplotlib.figure.Figure at 0x10c2b1b38>"
      ]
     },
     "metadata": {
      "image/png": {
       "height": 277,
       "width": 364
      }
     },
     "output_type": "display_data"
    }
   ],
   "source": [
    "# load library\n",
    "import matplotlib.pyplot as plt\n",
    "\n",
    "# this is a 'magic word' that allows for plots to be displayed\n",
    "# inline with the notebook. If you want to know more, see:\n",
    "# http://ipython.readthedocs.io/en/stable/interactive/magics.html\n",
    "%matplotlib inline \n",
    "%config InlineBackend.figure_format = 'retina'\n",
    "\n",
    "# example histogram, data taken from bay area sample\n",
    "data = [ 7.65,  8.92,  7.42,  5.50, 16.17,  4.20,  8.98,  9.62, 11.48, 14.33,\n",
    "        19.02, 21.53,  3.90,  7.97,  2.62,  2.67,  3.08, 14.40, 12.90,  7.83,\n",
    "        25.12,  8.30,  4.93, 12.43, 10.60,  6.17, 10.88,  4.78, 15.15,  3.53,\n",
    "         9.43, 13.32, 11.72,  9.85,  5.22, 15.10,  3.95,  3.17,  8.78,  1.88,\n",
    "         4.55, 12.68, 12.38,  9.78,  7.63,  6.45, 17.38, 11.90, 11.52,  8.63,]\n",
    "plt.hist(data)\n",
    "plt.title('Distribution of Trip Durations')\n",
    "plt.xlabel('Duration (m)')\n",
    "plt.show()"
   ]
  },
  {
   "cell_type": "markdown",
   "metadata": {},
   "source": [
    "In the above cell, we collected fifty trip times in a list, and passed this list as the first argument to the `.hist()` function. This function performs the computations and creates plotting objects for generating a histogram, but the plot is actually not rendered until the `.show()` function is executed. The `.title()` and `.xlabel()` functions provide some labeling for plot context.\n",
    "\n",
    "You will now use these functions to create a histogram of the trip times for the city you selected in question 4c. Don't separate the Subscribers and Customers for now: just collect all of the trip times and plot them."
   ]
  },
  {
   "cell_type": "code",
   "execution_count": 34,
   "metadata": {},
   "outputs": [
    {
     "data": {
      "image/png": "[encoded data removed]",
      "text/plain": [
       "<matplotlib.figure.Figure at 0x10f255940>"
      ]
     },
     "metadata": {
      "image/png": {
       "height": 277,
       "width": 403
      }
     },
     "output_type": "display_data"
    }
   ],
   "source": [
    "# Collecting all of the trip times as a list\n",
    "data=[]\n",
    "with open('./data/Washington-2016-Summary.csv', 'r') as f_in:\n",
    "        reader = csv.DictReader(f_in)\n",
    "        data=[]\n",
    "        \n",
    "        for row in reader:\n",
    "            data.append(round(float(row['duration']),2))\n",
    "\n",
    "# Generate a histogram of trip times with pyplot                      \n",
    "%matplotlib inline \n",
    "plt.hist(data,range=(0,50))\n",
    "\n",
    "plt.title('Distribution of Trip Durations')\n",
    "plt.xlabel('Duration (m)')\n",
    "plt.ylabel('Number of trips')\n",
    "plt.show()\n"
   ]
  },
  {
   "cell_type": "markdown",
   "metadata": {},
   "source": [
    "If you followed the use of the `.hist()` and `.show()` functions exactly like in the example, you're probably looking at a plot that's completely unexpected. The plot consists of one extremely tall bar on the left, maybe a very short second bar, and a whole lot of empty space in the center and right. Take a look at the duration values on the x-axis. This suggests that there are some highly infrequent outliers in the data. Instead of reprocessing the data, you will use additional parameters with the `.hist()` function to limit the range of data that is plotted. Documentation for the function can be found [[here]](https://matplotlib.org/devdocs/api/_as_gen/matplotlib.pyplot.hist.html#matplotlib.pyplot.hist).\n",
    "\n",
    "**Question 5**: Use the parameters of the `.hist()` function to plot the distribution of trip times for the Subscribers in your selected city. Do the same thing for only the Customers. Add limits to the plots so that only trips of duration less than 75 minutes are plotted. As a bonus, set the plots up so that bars are in five-minute wide intervals. For each group, where is the peak of each distribution? How would you describe the shape of each distribution?\n",
    "\n",
    "**Answer**: Both trip times distributions are visually bell shaped, uni-modal and positively skewed. <br>\n",
    "The subscribers distribution is strongly leptokurtic around its 6min mode. \n",
    "Customers trip times distribution has less visually obvious mode at around 16min. The distribution statistics comes with several modes at 11 and 19minutes, and 50% percentile of 24min. These statistics and distribution visualisation indicates heavy (fat) tails: indeed, ≈30% of trips are above 40min."
   ]
  },
  {
   "cell_type": "code",
   "execution_count": 35,
   "metadata": {},
   "outputs": [
    {
     "name": "stdout",
     "output_type": "stream",
     "text": [
      "50% percentile of Customer trips is located at 24min, with trips above 40min is 29.0%\n"
     ]
    },
    {
     "data": {
      "image/png": "[encoded data removed]",
      "text/plain": [
       "<matplotlib.figure.Figure at 0x10f2539e8>"
      ]
     },
     "metadata": {
      "image/png": {
       "height": 277,
       "width": 393
      }
     },
     "output_type": "display_data"
    }
   ],
   "source": [
    "# Generate a histogram of trip times distribution for different types of users  with pyplot                      \n",
    "import statistics\n",
    "\n",
    "with open('./data/Washington-2016-Summary.csv', 'r') as f_in:\n",
    "        reader = csv.DictReader(f_in)\n",
    "        data_subscriber, data_customer=[],[]\n",
    "        \n",
    "        #Creating data sets for each user type\n",
    "        \n",
    "        for row in reader:\n",
    "            if row['user_type']=='Subscriber':\n",
    "                data_subscriber.append(round(float(row['duration']),2))\n",
    "            else:\n",
    "                data_customer.append(round(float(row['duration']),2))\n",
    "\n",
    "\n",
    "sum_trips=0\n",
    "long_trips=0\n",
    "\n",
    "\n",
    "for index,value in enumerate(data_customer):\n",
    "    sum_trips+=1\n",
    "    if data_customer[index]>40:\n",
    "        long_trips+=1\n",
    "\n",
    "print('''50% percentile of Customer trips is located at {}min, with trips above 40min is {}%'''\n",
    "      .format(int(statistics.median_grouped(data_customer)), round(long_trips/sum_trips*100,0)))\n",
    "        \n",
    "# Visualisation with matplotlib. Use single graph for both data sets\n",
    "\n",
    "%matplotlib inline \n",
    "%config InlineBackend.figure_format = 'retina'\n",
    "\n",
    "# Change bins to 15 to answer the question no.5\n",
    "\n",
    "plt.hist(data_subscriber,bins=75,range=(0,75),density=True,alpha=0.8,color='red',label='Subscribers',stacked=True)\n",
    "plt.hist(data_customer,bins=75,range=(0,75),density=True,alpha=0.8,color='turquoise',label='Customer',stacked=True)\n",
    "plt.title('Normalised distribution of Trip Durations')\n",
    "plt.xlabel('Duration (m)')\n",
    "plt.ylabel('Percentage of trips')\n",
    "plt.legend(loc='upper right')\n",
    "plt.grid(True, markevery=1,linewidth=1)\n",
    "plt.show()\n"
   ]
  },
  {
   "cell_type": "markdown",
   "metadata": {
    "collapsed": true
   },
   "source": [
    " <a id='eda_continued'></a>\n",
    "## Performing Your Own Analysis\n",
    "\n",
    "So far, you've performed an initial exploration into the data available. You have compared the relative volume of trips made between three U.S. cities and the ratio of trips made by Subscribers and Customers. For one of these cities, you have investigated differences between Subscribers and Customers in terms of how long a typical trip lasts. Now it is your turn to continue the exploration in a direction that you choose. Here are a few suggestions for questions to explore:\n",
    "\n",
    "- How does ridership differ by month or season? Which month / season has the highest ridership? Does the ratio of Subscriber trips to Customer trips change depending on the month or season?\n",
    "- Is the pattern of ridership different on the weekends versus weekdays? On what days are Subscribers most likely to use the system? What about Customers? Does the average duration of rides change depending on the day of the week?\n",
    "- During what time of day is the system used the most? Is there a difference in usage patterns for Subscribers and Customers?\n",
    "\n",
    "If any of the questions you posed in your answer to question 1 align with the bullet points above, this is a good opportunity to investigate one of them. As part of your investigation, you will need to create a visualization. If you want to create something other than a histogram, then you might want to consult the [Pyplot documentation](https://matplotlib.org/devdocs/api/pyplot_summary.html). In particular, if you are plotting values across a categorical variable (e.g. city, user type), a bar chart will be useful. The [documentation page for `.bar()`](https://matplotlib.org/devdocs/api/_as_gen/matplotlib.pyplot.bar.html#matplotlib.pyplot.bar) includes links at the bottom of the page with examples for you to build off of for your own use.\n",
    "\n",
    "**Question 6**: Continue the investigation by exploring another question that could be answered by the data available. Document the question you want to explore below. Your investigation should involve at least two variables and should compare at least two groups. You should also use at least one visualization as part of your explorations.\n",
    "\n",
    "Is the pattern of ridership different on the weekends versus weekdays? On what days are Subscribers most likely to use the system? What about Customers? Does the average duration of rides change depending on the day of the week?\n",
    "\n",
    "**Answer**: Washington average trip duration 18.93min, which is consistent with previously calcualted 18.93 min.\n",
    "Workdays trip times are more pronounced (leuptokurtic) than those on weekends. Workday average trip is ≈17min long, which is somewhat shorter than weekend's average trip ≈24min.\n",
    "The subscribers times are similar across the workday and weekends with average trip of ≈12min on workday and ≈13min on weekend. On opposite, customers usualy make shorter trips on workday (≈40min) than on weekend (44min). \n",
    "The alike distributions are commonly analysed with second (standard deviation), third and fourth moments (skewness and kurtosis), which are out the scope in this project.\n",
    "Further investigation shows that Saturday has on average 40% more trips than other weekdays, which are made by significantly increased number of Customers. Further data drill down is necessary to route the cause of such abnormality. "
   ]
  },
  {
   "cell_type": "code",
   "execution_count": 22,
   "metadata": {},
   "outputs": [
    {
     "name": "stdout",
     "output_type": "stream",
     "text": [
      "\n",
      "Washington average trip duration 18.93min, which is consistent with previously calcualted 18.93 min.\n",
      "Workday average trip is 17.0min long, which is somewhat shorter than weekend's average trip 24.4min.\n",
      "The subscribers pattern is similar across the workday and weekends \n",
      "with average trip on workday 12.4min and weekend 13.0min.\n",
      "On opposite, customers usualy make shorter trips on workday 39.9min than on weekend 44.0min.\n",
      "\n"
     ]
    },
    {
     "data": {
      "image/png": "[encoded data removed]",
      "text/plain": [
       "<matplotlib.figure.Figure at 0x7f4fba4f5748>"
      ]
     },
     "metadata": {},
     "output_type": "display_data"
    },
    {
     "data": {
      "image/png": "[encoded data removed]",
      "text/plain": [
       "<matplotlib.figure.Figure at 0x7f4fba872a58>"
      ]
     },
     "metadata": {},
     "output_type": "display_data"
    },
    {
     "data": {
      "image/png": "[encoded data removed]",
      "text/plain": [
       "<matplotlib.figure.Figure at 0x7f4fbb0e1ef0>"
      ]
     },
     "metadata": {},
     "output_type": "display_data"
    }
   ],
   "source": [
    "# Exploring only Washington data set\n",
    "# Exploring pattern of ridership on the weekends versus weekdays, for Subscribers, Customers and all users.\n",
    "# The average duration of rides depending on the day of the week.\n",
    "\n",
    "import statistics\n",
    "\n",
    "with open('./data/Washington-2016-Summary.csv', 'r') as f_in:\n",
    "        reader = csv.DictReader(f_in)\n",
    "        \n",
    "        #Creating six data sets: for workdays and weekend and for all users together and individually\n",
    "        \n",
    "        t,t_work, t_we, t_subscriber_we, t_customer_we, t_subscriber_work, t_customer_work = [],[],[],[],[],[],[]\n",
    "\n",
    "        for row in reader:\n",
    "            t.append(round(float(row['duration']),2))\n",
    "            if row['day_of_week']=='Saturday' or row['day_of_week']=='Sunday':\n",
    "                t_we.append(round(float(row['duration']),2))\n",
    "                if row['user_type']=='Subscriber':\n",
    "                    t_subscriber_we.append(round(float(row['duration']),2))\n",
    "                else:\n",
    "                    t_customer_we.append(round(float(row['duration']),2))\n",
    "            else:\n",
    "                t_work.append(round(float(row['duration']),2))\n",
    "                if row['user_type']=='Subscriber':\n",
    "                    t_subscriber_work.append(round(float(row['duration']),2))\n",
    "                else:\n",
    "                    t_customer_work.append(round(float(row['duration']),2))\n",
    "\n",
    "print ('''\n",
    "Washington average trip duration {}min, which is consistent with previously calcualted 18.93 min.\n",
    "Workday average trip is {}min long, which is somewhat shorter than weekend's average trip {}min.\n",
    "The subscribers pattern is similar across the workday and weekends \n",
    "with average trip on workday {}min and weekend {}min.\n",
    "On opposite, customers usualy make shorter trips on workday {}min than on weekend {}min.\n",
    "'''.format(round(statistics.mean(t),2),round(statistics.mean(t_work),1),round(statistics.mean(t_we),1), \n",
    "       round(statistics.mean(t_subscriber_work),1),round(statistics.mean(t_subscriber_we),1), \n",
    "       round(statistics.mean(t_customer_work),1),round(statistics.mean(t_customer_we),1)))\n",
    "\n",
    "# Graph for all data sets\n",
    "       \n",
    "%matplotlib inline \n",
    "plt.hist(t_we,bins=75,range=(0,75),density=True,alpha=0.8,color='red',label='Weekend',stacked=True)\n",
    "plt.hist(t_work,bins=75,range=(0,75),density=True,alpha=0.8,color='turquoise',label='Workdays',stacked=True)\n",
    "plt.title('Normalised distribution of Trip Durations')\n",
    "plt.xlabel('Duration (m)')\n",
    "plt.ylabel('Percentage of trips')\n",
    "plt.legend(loc='upper right')\n",
    "plt.grid(True, markevery=1,linewidth=1)\n",
    "plt.show()\n",
    "\n",
    "# Use single graph for both data sets\n",
    "%matplotlib inline \n",
    "plt.hist(t_subscriber_we,bins=75,range=(0,75),density=True,alpha=0.5,color='red',label='Weekend Subscribers trips',stacked=True)\n",
    "plt.hist(t_subscriber_work,bins=75,range=(0,75),density=True,alpha=0.5,color='turquoise',label='Workdays subscribers trips',stacked=True)\n",
    "plt.title('Trip Durations for Subscribers on Workdays and Weekends')\n",
    "plt.xlabel('Duration (m)')\n",
    "plt.ylabel('Number of trips')\n",
    "plt.legend(loc='upper right')\n",
    "plt.grid(True, markevery=1,linewidth=1)\n",
    "plt.show()\n",
    "\n",
    "%matplotlib inline \n",
    "plt.hist(t_customer_we,bins=15,range=(0,75),density=True,alpha=0.5,color='red',label='Weekend customer trips',stacked=True)\n",
    "plt.hist(t_customer_work,bins=15,range=(0,75),density=True,alpha=0.5,color='blue',label='Workdays customer trips',stacked=True)\n",
    "plt.title('Trip Durations for Subscribers on Workdays and Weekends')\n",
    "plt.xlabel('Duration (m)')\n",
    "plt.ylabel('Number of trips')\n",
    "plt.legend(loc='upper right')\n",
    "plt.grid(True, markevery=1,linewidth=1)\n",
    "plt.show()"
   ]
  },
  {
   "cell_type": "code",
   "execution_count": 55,
   "metadata": {},
   "outputs": [
    {
     "data": {
      "image/png": "[encoded data removed]",
      "text/plain": [
       "<matplotlib.figure.Figure at 0x7f9fcb51c0f0>"
      ]
     },
     "metadata": {},
     "output_type": "display_data"
    },
    {
     "data": {
      "image/png": "[encoded data removed]",
      "text/plain": [
       "<matplotlib.figure.Figure at 0x7f9fcbedc898>"
      ]
     },
     "metadata": {},
     "output_type": "display_data"
    },
    {
     "data": {
      "text/plain": [
       "<matplotlib.axes._subplots.AxesSubplot at 0x7f9fcb532908>"
      ]
     },
     "execution_count": 55,
     "metadata": {},
     "output_type": "execute_result"
    },
    {
     "data": {
      "image/png": "[encoded data removed]",
      "text/plain": [
       "<matplotlib.figure.Figure at 0x7f9fcb499400>"
      ]
     },
     "metadata": {},
     "output_type": "display_data"
    }
   ],
   "source": [
    "#The average duration of rides and Subscriber-Customer ratio depending on the day of the week\n",
    "\n",
    "import pandas as pd\n",
    "import seaborn as sns\n",
    "\n",
    "\n",
    "with open('./data/Washington-2016-Summary.csv', 'r') as f_in:\n",
    "        reader = csv.DictReader(f_in)\n",
    "        \n",
    "        #Creating lists for each day of the week and trip duration   \n",
    "        wd= ('All data','Monday','Tuesday','Wednesday','Thursday','Friday','Saturday','Sunday')\n",
    "        n_trips = [0,0,0,0,0,0,0,0]\n",
    "        n_s_trips = [0,0,0,0,0,0,0,0]\n",
    "        n_c_trips = [0,0,0,0,0,0,0,0]\n",
    "        n_sc_ratio = [0,0,0,0,0,0,0,0]\n",
    "    \n",
    "        for row in reader:\n",
    "            n_trips[0]+=(round(float(row['duration']),2))\n",
    "            if row['user_type']=='Subscriber':\n",
    "                n_s_trips[0]+=1\n",
    "            else:\n",
    "                n_c_trips[0]+=1\n",
    "            if row['day_of_week']==wd[1]:\n",
    "                n_trips[1]+=(round(float(row['duration']),2))\n",
    "                if row['user_type']=='Subscriber':\n",
    "                    n_s_trips[1]+=1\n",
    "                else:\n",
    "                    n_c_trips[1]+=1\n",
    "            elif row['day_of_week']==wd[2]:\n",
    "                n_trips[2]+=(round(float(row['duration']),2))\n",
    "                if row['user_type']=='Subscriber':\n",
    "                    n_s_trips[2]+=1\n",
    "                else:\n",
    "                    n_c_trips[2]+=1\n",
    "            elif row['day_of_week']==wd[3]:\n",
    "                n_trips[3]+=(round(float(row['duration']),2))\n",
    "                if row['user_type']=='Subscriber':\n",
    "                    n_s_trips[3]+=1\n",
    "                else:\n",
    "                    n_c_trips[3]+=1\n",
    "            elif row['day_of_week']==wd[4]:\n",
    "                n_trips[4]+=(round(float(row['duration']),2))\n",
    "                if row['user_type']=='Subscriber':\n",
    "                    n_s_trips[4]+=1\n",
    "                else:\n",
    "                    n_c_trips[4]+=1\n",
    "            elif row['day_of_week']==wd[5]:\n",
    "                n_trips[5]+=(round(float(row['duration']),2))\n",
    "                if row['user_type']=='Subscriber':\n",
    "                    n_s_trips[5]+=1\n",
    "                else:\n",
    "                    n_c_trips[5]+=1\n",
    "            elif row['day_of_week']==wd[6]:\n",
    "                n_trips[6]+=(round(float(row['duration']),2))\n",
    "                if row['user_type']=='Subscriber':\n",
    "                    n_s_trips[6]+=1\n",
    "                else:\n",
    "                    n_c_trips[6]+=1\n",
    "            elif row['day_of_week']==wd[7]:\n",
    "                n_trips[7]+=(round(float(row['duration']),2))\n",
    "                if row['user_type']=='Subscriber':\n",
    "                    n_s_trips[7]+=1\n",
    "                else:\n",
    "                    n_c_trips[7]+=1\n",
    "            else:\n",
    "                print ('Error reading data file')\n",
    "\n",
    "#Finishing subscriber_customer ratio\n",
    "for x in range(1,7):\n",
    "    n_c_trips[0]=n_c_trips[x]\n",
    "    n_s_trips[0]=n_c_trips[x]\n",
    "    n_sc_ratio[x]=n_s_trips[x]/n_c_trips[x]\n",
    "    \n",
    "#Updating total trips count\n",
    "n_trips[0]=n_s_trips[0]+n_c_trips[0]\n",
    "\n",
    "                \n",
    "# Plotting a scatter plots\n",
    "%matplotlib inline               \n",
    "plt.scatter(wd[1:7], n_trips[1:7], color='Black', label='Total trips')\n",
    "plt.title('Trip Durations for every day of the week')\n",
    "plt.xlabel('Day of the week')\n",
    "plt.ylabel('Number of trips')\n",
    "plt.show()\n",
    "\n",
    "%matplotlib inline\n",
    "plt.title('Subscribers/Customer ratio for every day of the week')\n",
    "plt.scatter(wd[1:7], n_sc_ratio[1:7], color='Black', label='Subscriber/Customer ratio')\n",
    "plt.xlabel('Day of the week')\n",
    "plt.show()\n",
    "\n",
    "# Plotting a barchard with Pandas and Seaborn package. Provided by Chin Yen\n",
    "dc=pd.read_csv('./data/Washington-2016-Summary.csv')\n",
    "sns.countplot(x='day_of_week', data=dc,\n",
    "              order=['Monday','Tuesday','Wednesday','Thursday','Friday','Saturday','Sunday'],\n",
    "              hue='user_type', palette='PuRd')"
   ]
  },
  {
   "cell_type": "markdown",
   "metadata": {},
   "source": [
    "<a id='conclusions'></a>\n",
    "## Conclusions\n",
    "\n",
    "Congratulations on completing the project! This is only a sampling of the data analysis process: from generating questions, wrangling the data, and to exploring the data. Normally, at this point in the data analysis process, you might want to draw conclusions about the data by performing a statistical test or fitting the data to a model for making predictions. There are also a lot of potential analyses that could be performed on the data which are not possible with only the data provided. For example, detailed location data has not been investigated. Where are the most commonly used docks? What are the most common routes? As another example, weather has potential to have a large impact on daily ridership. How much is ridership impacted when there is rain or snow? Are subscribers or customers affected more by changes in weather?\n",
    "\n",
    "**Question 7**: Putting the bike share data aside, think of a topic or field of interest where you would like to be able to apply the techniques of data science. What would you like to be able to learn from your chosen subject?\n",
    "\n",
    "**Answer**: I presume that data analysis can be used for the predictive modelling. Previously, I have developed and used structural models for stochastic processes. These were commonly based on raw historical data, lightly filtered and statistically analysied with some PACF, ACF. Most of the times, the models also contained some theoretical dynamics and factors, such as as aforementioned weather, geographical or other exgeneous factors. Using data analysis prior the construction and testing of predictive models may significantly reduce time and increase the forecast accuracy through discovery and provisional tests of the correlation structure between those individual factors as well as time series in question.  \n",
    "\n",
    "> **Tip**: If we want to share the results of our analysis with others, we aren't limited to giving them a copy of the jupyter Notebook (.ipynb) file. We can also export the Notebook output in a form that can be opened even for those without Python installed. From the **File** menu in the upper left, go to the **Download as** submenu. You can then choose a different format that can be viewed more generally, such as HTML (.html) or\n",
    "PDF (.pdf). You may need additional packages or software to perform these exports.\n",
    "\n",
    "> If you are working on this project via the Project Notebook page in the classroom, you can also submit this project directly from the workspace. **Before you do that**, you should save an HTML copy of the completed project to the workspace by running the code cell below. If it worked correctly, the output code should be a 0, and if you click on the jupyter icon in the upper left, you should see your .html document in the workspace directory. Alternatively, you can download the .html copy of your report following the steps in the previous paragraph, then _upload_ the report to the directory (by clicking the jupyter icon).\n",
    "\n",
    "> Either way, once you've gotten the .html report in your workspace, you can complete your submission by clicking on the \"Submit Project\" button to the lower-right hand side of the workspace."
   ]
  },
  {
   "cell_type": "code",
   "execution_count": 56,
   "metadata": {},
   "outputs": [
    {
     "data": {
      "text/plain": [
       "255"
      ]
     },
     "execution_count": 56,
     "metadata": {},
     "output_type": "execute_result"
    }
   ],
   "source": [
    "from subprocess import call\n",
    "call(['python', '-m', 'nbconvert', 'Bike_Share_Analysis.ipynb'])"
   ]
  },
  {
   "cell_type": "raw",
   "metadata": {},
   "source": [
    "jupyter nbconvert notebook.ipynb --to slides --post serve"
   ]
  }
 ],
 "metadata": {
  "anaconda-cloud": {},
  "kernelspec": {
   "display_name": "Python [default]",
   "language": "python",
   "name": "python3"
  },
  "language_info": {
   "codemirror_mode": {
    "name": "ipython",
    "version": 3
   },
   "file_extension": ".py",
   "mimetype": "text/x-python",
   "name": "python",
   "nbconvert_exporter": "python",
   "pygments_lexer": "ipython3",
   "version": "3.6.3"
  }
 },
 "nbformat": 4,
 "nbformat_minor": 1
}
